{
 "cells": [
  {
   "cell_type": "code",
   "execution_count": 1,
   "metadata": {},
   "outputs": [],
   "source": [
    "import numpy as np\n",
    "import pandas as pd\n",
    "from pprint import pprint"
   ]
  },
  {
   "cell_type": "markdown",
   "metadata": {},
   "source": [
    "## Load and prepare data [Regression]"
   ]
  },
  {
   "cell_type": "markdown",
   "metadata": {},
   "source": [
    "https://www.kaggle.com/marklvl/bike-sharing-dataset"
   ]
  },
  {
   "cell_type": "code",
   "execution_count": 2,
   "metadata": {},
   "outputs": [],
   "source": [
    "reg_df = pd.read_csv(\"Bike.csv\", parse_dates=[\"dteday\"])\n",
    "reg_df = reg_df.drop([\"instant\", \"casual\", \"registered\"], axis=1)\n",
    "reg_df = reg_df.rename({\"dteday\": \"date\"}, axis=1)"
   ]
  },
  {
   "cell_type": "code",
   "execution_count": 3,
   "metadata": {},
   "outputs": [
    {
     "data": {
      "text/html": [
       "<div>\n",
       "<style scoped>\n",
       "    .dataframe tbody tr th:only-of-type {\n",
       "        vertical-align: middle;\n",
       "    }\n",
       "\n",
       "    .dataframe tbody tr th {\n",
       "        vertical-align: top;\n",
       "    }\n",
       "\n",
       "    .dataframe thead th {\n",
       "        text-align: right;\n",
       "    }\n",
       "</style>\n",
       "<table border=\"1\" class=\"dataframe\">\n",
       "  <thead>\n",
       "    <tr style=\"text-align: right;\">\n",
       "      <th></th>\n",
       "      <th>date</th>\n",
       "      <th>season</th>\n",
       "      <th>yr</th>\n",
       "      <th>mnth</th>\n",
       "      <th>holiday</th>\n",
       "      <th>weekday</th>\n",
       "      <th>workingday</th>\n",
       "      <th>weathersit</th>\n",
       "      <th>temp</th>\n",
       "      <th>atemp</th>\n",
       "      <th>hum</th>\n",
       "      <th>windspeed</th>\n",
       "      <th>cnt</th>\n",
       "    </tr>\n",
       "  </thead>\n",
       "  <tbody>\n",
       "    <tr>\n",
       "      <th>0</th>\n",
       "      <td>2011-01-01</td>\n",
       "      <td>1</td>\n",
       "      <td>0</td>\n",
       "      <td>1</td>\n",
       "      <td>0</td>\n",
       "      <td>6</td>\n",
       "      <td>0</td>\n",
       "      <td>2</td>\n",
       "      <td>0.344167</td>\n",
       "      <td>0.363625</td>\n",
       "      <td>0.805833</td>\n",
       "      <td>0.160446</td>\n",
       "      <td>985</td>\n",
       "    </tr>\n",
       "    <tr>\n",
       "      <th>1</th>\n",
       "      <td>2011-01-02</td>\n",
       "      <td>1</td>\n",
       "      <td>0</td>\n",
       "      <td>1</td>\n",
       "      <td>0</td>\n",
       "      <td>0</td>\n",
       "      <td>0</td>\n",
       "      <td>2</td>\n",
       "      <td>0.363478</td>\n",
       "      <td>0.353739</td>\n",
       "      <td>0.696087</td>\n",
       "      <td>0.248539</td>\n",
       "      <td>801</td>\n",
       "    </tr>\n",
       "    <tr>\n",
       "      <th>2</th>\n",
       "      <td>2011-01-03</td>\n",
       "      <td>1</td>\n",
       "      <td>0</td>\n",
       "      <td>1</td>\n",
       "      <td>0</td>\n",
       "      <td>1</td>\n",
       "      <td>1</td>\n",
       "      <td>1</td>\n",
       "      <td>0.196364</td>\n",
       "      <td>0.189405</td>\n",
       "      <td>0.437273</td>\n",
       "      <td>0.248309</td>\n",
       "      <td>1349</td>\n",
       "    </tr>\n",
       "  </tbody>\n",
       "</table>\n",
       "</div>"
      ],
      "text/plain": [
       "        date  season  yr  mnth  holiday  weekday  workingday  weathersit  \\\n",
       "0 2011-01-01       1   0     1        0        6           0           2   \n",
       "1 2011-01-02       1   0     1        0        0           0           2   \n",
       "2 2011-01-03       1   0     1        0        1           1           1   \n",
       "\n",
       "       temp     atemp       hum  windspeed   cnt  \n",
       "0  0.344167  0.363625  0.805833   0.160446   985  \n",
       "1  0.363478  0.353739  0.696087   0.248539   801  \n",
       "2  0.196364  0.189405  0.437273   0.248309  1349  "
      ]
     },
     "execution_count": 3,
     "metadata": {},
     "output_type": "execute_result"
    }
   ],
   "source": [
    "reg_df.head(3)"
   ]
  },
  {
   "cell_type": "code",
   "execution_count": 4,
   "metadata": {},
   "outputs": [],
   "source": [
    "reg_X_df = reg_df.iloc[:, :-1] # Input raw df\n",
    "reg_y_df = reg_df.iloc[:, -1] # Output raw df"
   ]
  },
  {
   "cell_type": "code",
   "execution_count": 5,
   "metadata": {},
   "outputs": [],
   "source": [
    "# Derive new features from date column\n",
    "date_column = reg_X_df.date\n",
    "\n",
    "reg_X_df[\"day_of_year\"] = date_column.dt.dayofyear\n",
    "reg_X_df[\"day_of_month\"] = date_column.dt.day\n",
    "reg_X_df[\"quarter\"] = date_column.dt.quarter\n",
    "reg_X_df[\"week\"] = date_column.dt.week\n",
    "reg_X_df[\"is_month_end\"] = date_column.dt.is_month_end\n",
    "reg_X_df[\"is_month_start\"] = date_column.dt.is_month_start\n",
    "reg_X_df[\"is_quarter_end\"] = date_column.dt.is_quarter_end\n",
    "reg_X_df[\"is_quarter_start\"] = date_column.dt.is_quarter_start\n",
    "reg_X_df[\"is_year_end\"] = date_column.dt.is_year_end\n",
    "reg_X_df[\"is_year_start\"] = date_column.dt.is_year_start"
   ]
  },
  {
   "cell_type": "code",
   "execution_count": 6,
   "metadata": {},
   "outputs": [
    {
     "data": {
      "text/html": [
       "<div>\n",
       "<style scoped>\n",
       "    .dataframe tbody tr th:only-of-type {\n",
       "        vertical-align: middle;\n",
       "    }\n",
       "\n",
       "    .dataframe tbody tr th {\n",
       "        vertical-align: top;\n",
       "    }\n",
       "\n",
       "    .dataframe thead th {\n",
       "        text-align: right;\n",
       "    }\n",
       "</style>\n",
       "<table border=\"1\" class=\"dataframe\">\n",
       "  <thead>\n",
       "    <tr style=\"text-align: right;\">\n",
       "      <th></th>\n",
       "      <th>date</th>\n",
       "      <th>season</th>\n",
       "      <th>yr</th>\n",
       "      <th>mnth</th>\n",
       "      <th>holiday</th>\n",
       "      <th>weekday</th>\n",
       "      <th>workingday</th>\n",
       "      <th>weathersit</th>\n",
       "      <th>temp</th>\n",
       "      <th>atemp</th>\n",
       "      <th>...</th>\n",
       "      <th>day_of_year</th>\n",
       "      <th>day_of_month</th>\n",
       "      <th>quarter</th>\n",
       "      <th>week</th>\n",
       "      <th>is_month_end</th>\n",
       "      <th>is_month_start</th>\n",
       "      <th>is_quarter_end</th>\n",
       "      <th>is_quarter_start</th>\n",
       "      <th>is_year_end</th>\n",
       "      <th>is_year_start</th>\n",
       "    </tr>\n",
       "  </thead>\n",
       "  <tbody>\n",
       "    <tr>\n",
       "      <th>0</th>\n",
       "      <td>2011-01-01</td>\n",
       "      <td>1</td>\n",
       "      <td>0</td>\n",
       "      <td>1</td>\n",
       "      <td>0</td>\n",
       "      <td>6</td>\n",
       "      <td>0</td>\n",
       "      <td>2</td>\n",
       "      <td>0.344167</td>\n",
       "      <td>0.363625</td>\n",
       "      <td>...</td>\n",
       "      <td>1</td>\n",
       "      <td>1</td>\n",
       "      <td>1</td>\n",
       "      <td>52</td>\n",
       "      <td>False</td>\n",
       "      <td>True</td>\n",
       "      <td>False</td>\n",
       "      <td>True</td>\n",
       "      <td>False</td>\n",
       "      <td>True</td>\n",
       "    </tr>\n",
       "    <tr>\n",
       "      <th>1</th>\n",
       "      <td>2011-01-02</td>\n",
       "      <td>1</td>\n",
       "      <td>0</td>\n",
       "      <td>1</td>\n",
       "      <td>0</td>\n",
       "      <td>0</td>\n",
       "      <td>0</td>\n",
       "      <td>2</td>\n",
       "      <td>0.363478</td>\n",
       "      <td>0.353739</td>\n",
       "      <td>...</td>\n",
       "      <td>2</td>\n",
       "      <td>2</td>\n",
       "      <td>1</td>\n",
       "      <td>52</td>\n",
       "      <td>False</td>\n",
       "      <td>False</td>\n",
       "      <td>False</td>\n",
       "      <td>False</td>\n",
       "      <td>False</td>\n",
       "      <td>False</td>\n",
       "    </tr>\n",
       "    <tr>\n",
       "      <th>2</th>\n",
       "      <td>2011-01-03</td>\n",
       "      <td>1</td>\n",
       "      <td>0</td>\n",
       "      <td>1</td>\n",
       "      <td>0</td>\n",
       "      <td>1</td>\n",
       "      <td>1</td>\n",
       "      <td>1</td>\n",
       "      <td>0.196364</td>\n",
       "      <td>0.189405</td>\n",
       "      <td>...</td>\n",
       "      <td>3</td>\n",
       "      <td>3</td>\n",
       "      <td>1</td>\n",
       "      <td>1</td>\n",
       "      <td>False</td>\n",
       "      <td>False</td>\n",
       "      <td>False</td>\n",
       "      <td>False</td>\n",
       "      <td>False</td>\n",
       "      <td>False</td>\n",
       "    </tr>\n",
       "  </tbody>\n",
       "</table>\n",
       "<p>3 rows × 22 columns</p>\n",
       "</div>"
      ],
      "text/plain": [
       "        date  season  yr  mnth  holiday  weekday  workingday  weathersit  \\\n",
       "0 2011-01-01       1   0     1        0        6           0           2   \n",
       "1 2011-01-02       1   0     1        0        0           0           2   \n",
       "2 2011-01-03       1   0     1        0        1           1           1   \n",
       "\n",
       "       temp     atemp  ...  day_of_year  day_of_month  quarter  week  \\\n",
       "0  0.344167  0.363625  ...            1             1        1    52   \n",
       "1  0.363478  0.353739  ...            2             2        1    52   \n",
       "2  0.196364  0.189405  ...            3             3        1     1   \n",
       "\n",
       "   is_month_end  is_month_start  is_quarter_end  is_quarter_start  \\\n",
       "0         False            True           False              True   \n",
       "1         False           False           False             False   \n",
       "2         False           False           False             False   \n",
       "\n",
       "   is_year_end  is_year_start  \n",
       "0        False           True  \n",
       "1        False          False  \n",
       "2        False          False  \n",
       "\n",
       "[3 rows x 22 columns]"
      ]
     },
     "execution_count": 6,
     "metadata": {},
     "output_type": "execute_result"
    }
   ],
   "source": [
    "reg_X_df.head(3)"
   ]
  },
  {
   "cell_type": "code",
   "execution_count": 7,
   "metadata": {},
   "outputs": [
    {
     "data": {
      "text/plain": [
       "0     985\n",
       "1     801\n",
       "2    1349\n",
       "Name: cnt, dtype: int64"
      ]
     },
     "execution_count": 7,
     "metadata": {},
     "output_type": "execute_result"
    }
   ],
   "source": [
    "reg_y_df.head(3)"
   ]
  },
  {
   "cell_type": "code",
   "execution_count": 13,
   "metadata": {},
   "outputs": [],
   "source": [
    "class DecisionNode():\n",
    "    def __init__(self):\n",
    "        self.decision_feature_index = None\n",
    "        self.decision_feature_value = None \n",
    "        self.left_node = None\n",
    "        self.right_node = None\n",
    "        self.comparator_type_str = None"
   ]
  },
  {
   "cell_type": "code",
   "execution_count": 14,
   "metadata": {},
   "outputs": [],
   "source": [
    "class DecisionTree():\n",
    "    def __init__(self):\n",
    "        self.tree_depth = 0\n",
    "        self.leaves_count = 0\n",
    "        self.feature_types = None\n",
    "        self.potential_splits = None\n",
    "        \n",
    "    def _tree_builder(self, data, ml_task, max_depth, max_leaves_count, min_samples, current_depth=0):\n",
    "        # Make leaf or split\n",
    "        if (self._check_purity(data)) or (len(data) < min_samples) or (current_depth >= max_depth) or (self.leaves_count >= max_leaves_count):\n",
    "            #leaf = self._create_leaf(data, ml_task, previous_estimator) # Gradient boost adaption\n",
    "            leaf = self._create_leaf(data, ml_task)\n",
    "            self.leaves_count += 1\n",
    "            return leaf\n",
    "        else:\n",
    "            # increase current_depth since we are spliting a node\n",
    "            current_depth += 1\n",
    "            \n",
    "            # Perform greedy search and find the best split feature and value\n",
    "            split_column, split_value = self._determine_best_split(data, self.potential_splits, ml_task)\n",
    "            data_below, data_above = self._split_data(data, split_column, split_value)\n",
    "            \n",
    "            if len(data_below) == 0 or len(data_above) == 0:\n",
    "                #leaf = self._create_leaf(data, ml_task, previous_estimator) # Gradient boost adaption\n",
    "                leaf = self._create_leaf(data, ml_task)\n",
    "                self.leaves_count += 1\n",
    "                return leaf\n",
    "            \n",
    "            type_of_feature = self.feature_types[split_column]\n",
    "            \n",
    "            # Recursive call # Splits until limits or leaves reached\n",
    "            yes_answer = self._tree_builder(data_below, ml_task, max_depth, max_leaves_count, min_samples, current_depth)\n",
    "            no_answer = self._tree_builder(data_above, ml_task, max_depth, max_leaves_count, min_samples, current_depth)\n",
    "            \n",
    "            if not isinstance(yes_answer, DecisionNode) and not isinstance(no_answer, DecisionNode):\n",
    "                yes_answer.sort()\n",
    "                no_answer.sort()\n",
    "                if yes_answer == no_answer:\n",
    "                    # since both the answers are same, reduce increased increased depth by one and also over\n",
    "                    current_depth -= 1 \n",
    "                    return yes_answer\n",
    "                \n",
    "            if self.tree_depth < current_depth: # Note final tree depth\n",
    "                self.tree_depth = current_depth\n",
    "        \n",
    "            # Instantiate a Decision node to store the output of current recursion\n",
    "            decision_node = DecisionNode()\n",
    "            decision_node.decision_feature_index = split_column\n",
    "            decision_node.decision_feature_value = split_value\n",
    "            decision_node.comparator_type_str = type_of_feature\n",
    "            decision_node.left_node = yes_answer\n",
    "            decision_node.right_node = no_answer\n",
    "            \n",
    "            return decision_node\n",
    "    \n",
    "    def build_tree(self, X, y, preds, residuals, ml_task, max_depth=5, max_leaves_count=8, min_samples=2):\n",
    "        self.num_of_features = X.shape[1]\n",
    "        data = np.c_[X, y, preds, residuals] # The tree is built of residuals , while y and pred are just kep for residual and leaf computation purpose\n",
    "        self.feature_types = self._determine_type_of_features(data)\n",
    "        self.potential_splits = self._get_potential_splits(data)\n",
    "        tree = self._tree_builder(data, ml_task, max_depth, max_leaves_count, min_samples)\n",
    "        return tree\n",
    "    \n",
    "    def _determine_type_of_features(self, X):\n",
    "        \"\"\"\n",
    "        Determine, if the feature is categorical or continuous\n",
    "        \"\"\"\n",
    "        feature_types = []\n",
    "        n_unique_values_treshold = 15 # Threshold for a numeric feature to be categorical\n",
    "        \n",
    "        for feature_i in range(self.num_of_features):\n",
    "            unique_values = np.unique(X[:, feature_i])\n",
    "            example_value = unique_values[0]\n",
    "\n",
    "            if (isinstance(example_value, str)) or (len(unique_values) <= n_unique_values_treshold):\n",
    "                feature_types.append(\"categorical\")\n",
    "            else:\n",
    "                feature_types.append(\"continuous\")\n",
    "\n",
    "        return feature_types\n",
    "    \n",
    "        \n",
    "    def _get_potential_splits(self, X):\n",
    "    \n",
    "        potential_splits = {}\n",
    "        \n",
    "        for column_index in range(self.num_of_features):\n",
    "            values = X[:, column_index]\n",
    "            unique_values = np.unique(values)\n",
    "\n",
    "            potential_splits[column_index] = unique_values\n",
    "\n",
    "        return potential_splits\n",
    "        \n",
    "        \n",
    "    def _calculate_mse(self, data):\n",
    "        actual_values = data[:, -1]\n",
    "        if len(actual_values) == 0:   # empty data\n",
    "            mse = 0\n",
    "\n",
    "        else:\n",
    "            prediction = np.mean(actual_values)\n",
    "            mse = np.mean((actual_values - prediction) **2)\n",
    "\n",
    "        return mse\n",
    "    \n",
    "        \n",
    "    def _calculate_entropy(self, data):\n",
    "    \n",
    "        label_column = data[:, -1]\n",
    "        _, counts = np.unique(label_column, return_counts=True)\n",
    "\n",
    "        probabilities = counts / counts.sum()\n",
    "        entropy = sum(probabilities * -np.log2(probabilities))\n",
    "\n",
    "        return entropy\n",
    "    \n",
    "\n",
    "    def _calculate_overall_metric(self, data_below, data_above, metric_function):\n",
    "    \n",
    "        n = len(data_below) + len(data_above)\n",
    "        p_data_below = len(data_below) / n\n",
    "        p_data_above = len(data_above) / n\n",
    "\n",
    "        overall_metric =  (p_data_below * metric_function(data_below) \n",
    "                         + p_data_above * metric_function(data_above))\n",
    "\n",
    "        return overall_metric\n",
    "    \n",
    "    \n",
    "    def _determine_best_split(self, data, potential_splits, ml_task):\n",
    "    \n",
    "        # Best minimum gini index to be updated iteratively\n",
    "        best_overall_metric = float('inf')\n",
    "        \n",
    "        for column_index in potential_splits:\n",
    "            for value in potential_splits[column_index]:\n",
    "                data_below, data_above = self._split_data(data, split_column=column_index, split_value=value)\n",
    "\n",
    "                if ml_task == \"regression\":\n",
    "                    current_overall_metric = self._calculate_overall_metric(data_below, data_above, metric_function=self._calculate_mse)\n",
    "                else: # classification\n",
    "                    current_overall_metric = self._calculate_overall_metric(data_below, data_above, metric_function=self._calculate_entropy)\n",
    "                    \n",
    "                # If a lower overall_metric is achieved update the index and value with the current\n",
    "                if current_overall_metric != None and current_overall_metric <= best_overall_metric:\n",
    "\n",
    "                    best_overall_metric = current_overall_metric\n",
    "                    best_split_column = column_index\n",
    "                    best_split_value = value\n",
    "\n",
    "        return best_split_column, best_split_value\n",
    "    \n",
    "    \n",
    "    def _split_data(self, data, split_column, split_value):\n",
    "    \n",
    "        split_column_values = data[:, split_column]\n",
    "\n",
    "        type_of_feature = self.feature_types[split_column]\n",
    "        \n",
    "        if type_of_feature == \"continuous\":\n",
    "            data_below = data[split_column_values <= split_value]\n",
    "            data_above = data[split_column_values >  split_value]\n",
    "  \n",
    "        else: # feature is categorical \n",
    "            data_below = data[split_column_values == split_value]\n",
    "            data_above = data[split_column_values != split_value]\n",
    "\n",
    "        return data_below, data_above \n",
    "\n",
    "\n",
    "    def _check_purity(self, data):\n",
    "    \n",
    "        label_column = data[:, -1]\n",
    "        unique_classes = np.unique(label_column)\n",
    "\n",
    "        if len(unique_classes) == 1:\n",
    "            return True\n",
    "        else:\n",
    "            return False\n",
    "        \n",
    "    \n",
    "#     def _create_leaf(self, data, ml_task):\n",
    "        \n",
    "#         label_column = data[:, -1]\n",
    "#         if ml_task == \"regression\":\n",
    "#             leaf = np.mean(label_column)\n",
    "\n",
    "#         # classfication    \n",
    "#         else:\n",
    "#             unique_classes, counts_unique_classes = np.unique(label_column, return_counts=True)\n",
    "#             index = counts_unique_classes.argmax()\n",
    "#             leaf = unique_classes[index]\n",
    "\n",
    "#         return leaf\n",
    "\n",
    "#     #def _create_leaf(self, data, ml_task, previous_estimator):\n",
    "#     def _create_leaf(self, data, ml_task):#, previous_estimator):\n",
    "#         #leaf = self.create_leaf(data, ml_task, previous_estimator)\n",
    "        \n",
    "#         #return leaf\n",
    "#         label_column = data[:, -1]\n",
    "# #        #leaf = np.unique(label_column).tolist()\n",
    "#         if ml_task == \"regression\":\n",
    "#             leaf = np.mean(label_column)\n",
    "\n",
    "#         # classfication    \n",
    "#         else:\n",
    "#             unique_classes, counts_unique_classes = np.unique(label_column, return_counts=True)\n",
    "#             index = counts_unique_classes.argmax()\n",
    "#             leaf = unique_classes[index]\n",
    "\n",
    "#         return [leaf]\n",
    "\n",
    "\n",
    "    def _create_leaf(self, data, ml_task):\n",
    "        leaf = self.create_leaf(data, ml_task)\n",
    "        return [leaf]\n",
    "    \n",
    "    def print_tree(self, tree):\n",
    "        node_dict = {}\n",
    "        if not tree:\n",
    "            return\n",
    "        \n",
    "        if isinstance(tree, list):\n",
    "            return tree\n",
    "        \n",
    "        decision_feature_index = tree.decision_feature_index\n",
    "        decision_feature_value = tree.decision_feature_value\n",
    "        left_value = tree.left_node\n",
    "        right_value = tree.right_node\n",
    "        comparator_type_str = tree.comparator_type_str\n",
    "        \n",
    "        comparator_operator_str = \"\"\n",
    "        if comparator_type_str == \"continuous\":\n",
    "            comparator_operator_str = \"<=\"\n",
    "        else:\n",
    "            comparator_operator_str = \"==\"\n",
    "            \n",
    "        yes_answer = self.print_tree(left_value)\n",
    "        no_answer = self.print_tree(right_value)\n",
    "    \n",
    "        key = f'{decision_feature_index} {comparator_operator_str} {decision_feature_value}'\n",
    "        node_dict[key] = [yes_answer, no_answer]\n",
    "        \n",
    "        return node_dict\n",
    "    \n",
    "    def calculate_r_squared(self, y_true, y_preds):\n",
    "        mean = np.mean(np.array(y_true))\n",
    "        ss_res = sum((y_true - y_preds) ** 2)\n",
    "        ss_tot = sum((y_true - mean) ** 2)\n",
    "        r_squared = 1 - ss_res / ss_tot\n",
    "\n",
    "        return r_squared\n",
    "    \n",
    "    def predict_example(self, example, tree):\n",
    "        question = list(tree.keys())[0]\n",
    "\n",
    "        feature_index, comparison_operator, value = question.split(\" \")\n",
    "        feature_index = int(feature_index) \n",
    "\n",
    "        # ask question\n",
    "        if comparison_operator == \"<=\":\n",
    "            if example[feature_index] <= float(value):\n",
    "                answer = tree[question][0]\n",
    "            else:\n",
    "                answer = tree[question][1]\n",
    "\n",
    "        # feature is categorical\n",
    "        else:\n",
    "            if str(example[feature_index]) == value:\n",
    "                answer = tree[question][0]\n",
    "            else:\n",
    "                answer = tree[question][1]\n",
    "\n",
    "        # base case\n",
    "        if not isinstance(answer, dict):\n",
    "            return answer[0]\n",
    "\n",
    "        # recursive part\n",
    "        else:\n",
    "            residual_tree = answer\n",
    "            return self.predict_example(example, residual_tree)\n",
    "        \n",
    "    def predict(self, X, raw_tree):\n",
    "        # Generate parseable tree [json]\n",
    "        tree = self.print_tree(raw_tree)\n",
    "        #data = np.c_[X, y]\n",
    "\n",
    "        preds = np.apply_along_axis(func1d=self.predict_example, arr=data, axis=1, tree=tree)\n",
    "\n",
    "        return preds"
   ]
  },
  {
   "cell_type": "code",
   "execution_count": null,
   "metadata": {},
   "outputs": [],
   "source": [
    "class BoostingConstantEstimator():\n",
    "    def __init__(self, task_type = None):\n",
    "        self.task_type = task_type\n",
    "        self.predictions = None\n",
    "        self.residuals = None\n",
    "        \n",
    "        \n",
    "    def _compute_residuals(self, y, pred):\n",
    "        return y - pred\n",
    "    \n",
    "    \n",
    "    def _compute_log_odds(self, y):\n",
    "        y_postives = y.sum()\n",
    "        y_negatives = y.size - y_postives\n",
    "        return np.log(y_postives / y_negatives)\n",
    "    \n",
    "    \n",
    "    def _convert_log_odds_to_prob(self, log_odds):\n",
    "        return np.exp(log_odds) / (1 + np.exp(log_odds))\n",
    "    \n",
    "    \n",
    "    def _compute_constant_predictions(self, y):\n",
    "        if self.task_type == 'regression':\n",
    "            # Compute avg value\n",
    "            pred = np.mean(y)\n",
    "            self.predictions = np.repeat(pred, len(y)) ##\n",
    "        else: # self.task_type == 'classification'\n",
    "            log_pred = self._compute_log_odds(y) # log preds\n",
    "            pred = self._convert_log_odds_to_prob(log_pred)\n",
    "            self.predictions = np.repeat(log_pred, len(y)) # log predictions\n",
    "            self.prob_pred = np.repeat(pred, len(y)) # probability predictions ##\n",
    "        return pred\n",
    "    \n",
    "    \n",
    "    def boost_cycle(self, y):\n",
    "        preds = self._compute_constant_predictions(y)\n",
    "        residuals = self._compute_residuals(y, preds)\n",
    "        self.residuals = residuals ##\n",
    "        "
   ]
  },
  {
   "cell_type": "code",
   "execution_count": 4,
   "metadata": {},
   "outputs": [],
   "source": [
    "class BoostingTreeEstimator(DecisionTree):\n",
    "    # A boosting estimator can be constant or a tree\n",
    "    \n",
    "    def __init__(self, task_type=None): # Note: while task_type can be either [regression, classification]\n",
    "        self.learning_rate = None\n",
    "        self.task_type = task_type\n",
    "        self.predictions = None\n",
    "        self.residuals = None\n",
    "        self.tree = None # useable tree [classification]log tree\n",
    "        \n",
    "        \n",
    "    def _compute_residuals(self, y, pred):\n",
    "        return y - pred\n",
    "    \n",
    "    \n",
    "    def _convert_log_odds_to_prob(self, log_odds):\n",
    "        return np.exp(log_odds) / (1 + np.exp(log_odds))\n",
    "    \n",
    "    \n",
    "    def create_leaf(self, data, ml_task):\n",
    "        y_values = data[:, -1]\n",
    "        if ml_task == \"regression\":\n",
    "            leaf = np.mean(y_values)\n",
    "        else: # Its a 'classification' task\n",
    "            # Convert and select from prob leaf value to log odds leaf value\n",
    "            prev_prob_predictions = data[:, -2]\n",
    "            residuals_sum = np.sum(y_values)\n",
    "            prob_odds_multiplicative_sum = np.sum(prev_prob_predictions * (1 - prev_prob_predictions))\n",
    "            leaf = residuals_sum / prob_odds_multiplicative_sum # log odds leaf value\n",
    "            \n",
    "        return leaf\n",
    "\n",
    "    def compute_predictions(self, X, generated_estimators):\n",
    "        constant_estimator = generated_estimators[0]\n",
    "        tree_estimators = generated_estimators[1:]\n",
    "        \n",
    "        predictions = constant_estimator.predictions\n",
    "        for tree_estimator in tree_estimators:\n",
    "            predictions += (self.learning_rate * self.predict(X, tree_estimator))\n",
    "        \n",
    "        self.predictions = predictions\n",
    "        \n",
    "        if self.task_type = \"classification\":\n",
    "            # Convert log predictions to probability predictions\n",
    "            self.prob_pred = self._convert_log_odds_to_prob(predictions)\n",
    "            return self.prob_pred\n",
    "        else: # if its regression\n",
    "            return self.predictions\n",
    "                     \n",
    "        \n",
    "    def boost_cycle(self, X, y, preds, residuals, ml_task, max_depth, max_leaves_count, min_samples, generated_estimators, learning_rate=0.8):\n",
    "        # build tree over residuals\n",
    "        self.learning_rate = learning_rate\n",
    "        tree = self.tree_builder(X, y, preds, residuals, ml_task, max_depth, max_leaves_count, min_samples)\n",
    "        updated_generated_estimators = generated_estimators.append(tree)\n",
    "        preds = self.compute_predictions(X, updated_generated_estimators)\n",
    "        residuals = self._compute_residuals(y, preds)\n",
    "        self.residuals = residuals\n",
    "        "
   ]
  },
  {
   "cell_type": "code",
   "execution_count": 23,
   "metadata": {},
   "outputs": [],
   "source": [
    "yala = np.array([1, 1, 1])"
   ]
  },
  {
   "cell_type": "code",
   "execution_count": 22,
   "metadata": {},
   "outputs": [],
   "source": [
    "yolo = np.array([[2, 2, 2], [1, 2, 3], [1, 1, 1]])"
   ]
  },
  {
   "cell_type": "code",
   "execution_count": 24,
   "metadata": {},
   "outputs": [],
   "source": [
    "base_y = yala"
   ]
  },
  {
   "cell_type": "code",
   "execution_count": 25,
   "metadata": {},
   "outputs": [],
   "source": [
    "for yo in yolo:\n",
    "    base_y += yo"
   ]
  },
  {
   "cell_type": "code",
   "execution_count": 26,
   "metadata": {},
   "outputs": [
    {
     "data": {
      "text/plain": [
       "array([5, 6, 7])"
      ]
     },
     "execution_count": 26,
     "metadata": {},
     "output_type": "execute_result"
    }
   ],
   "source": [
    "base_y"
   ]
  },
  {
   "cell_type": "code",
   "execution_count": null,
   "metadata": {},
   "outputs": [],
   "source": [
    "#(self, X, y, preds, residuals, ml_task, max_depth=5, max_leaves_count=8, min_samples=2):"
   ]
  },
  {
   "cell_type": "code",
   "execution_count": null,
   "metadata": {},
   "outputs": [],
   "source": [
    "#data = pd.concat([reg_X_df.iloc[:, 1:], reg_y_df], axis=1)"
   ]
  },
  {
   "cell_type": "code",
   "execution_count": 15,
   "metadata": {},
   "outputs": [],
   "source": [
    "pp = np.repeat(111, len(reg_y_df))\n",
    "rt = np.repeat(222, len(reg_y_df))"
   ]
  },
  {
   "cell_type": "code",
   "execution_count": 16,
   "metadata": {},
   "outputs": [],
   "source": [
    "dtx = DecisionTree()"
   ]
  },
  {
   "cell_type": "code",
   "execution_count": 17,
   "metadata": {},
   "outputs": [],
   "source": [
    "trex = dtx.build_tree(reg_X_df.iloc[:, 1:].values, pp, rt, reg_y_df.values, 'regression', max_depth=6, max_leaves_count=32, min_samples=15)"
   ]
  },
  {
   "cell_type": "code",
   "execution_count": 19,
   "metadata": {},
   "outputs": [
    {
     "data": {
      "text/plain": [
       "(7, 0.43083299999999997, 6)"
      ]
     },
     "execution_count": 19,
     "metadata": {},
     "output_type": "execute_result"
    }
   ],
   "source": [
    "trex.decision_feature_index, trex.decision_feature_value, dtx.tree_depth"
   ]
  },
  {
   "cell_type": "code",
   "execution_count": 20,
   "metadata": {},
   "outputs": [],
   "source": [
    "predictions2 = dtx.predict(reg_X_df.iloc[:, 1:].values, reg_y_df.values, trex)"
   ]
  },
  {
   "cell_type": "code",
   "execution_count": 21,
   "metadata": {},
   "outputs": [
    {
     "data": {
      "text/plain": [
       "0.8943929233165495"
      ]
     },
     "execution_count": 21,
     "metadata": {},
     "output_type": "execute_result"
    }
   ],
   "source": [
    "dtx.calculate_r_squared(reg_y_df.values, predictions2)"
   ]
  },
  {
   "cell_type": "code",
   "execution_count": null,
   "metadata": {},
   "outputs": [],
   "source": []
  },
  {
   "cell_type": "code",
   "execution_count": null,
   "metadata": {},
   "outputs": [],
   "source": []
  },
  {
   "cell_type": "code",
   "execution_count": null,
   "metadata": {},
   "outputs": [],
   "source": []
  },
  {
   "cell_type": "code",
   "execution_count": 18,
   "metadata": {},
   "outputs": [],
   "source": [
    "xt= np.array([[1, 2, 3], [4, 5, 6], [7, 8, 9]])"
   ]
  },
  {
   "cell_type": "code",
   "execution_count": 25,
   "metadata": {},
   "outputs": [],
   "source": [
    "yt=np.array([11, 22, 33])"
   ]
  },
  {
   "cell_type": "code",
   "execution_count": 26,
   "metadata": {},
   "outputs": [],
   "source": [
    "pt=np.array([111, 222, 333])"
   ]
  },
  {
   "cell_type": "code",
   "execution_count": 27,
   "metadata": {},
   "outputs": [],
   "source": [
    "rt=np.array([1111, 2222, 3333])"
   ]
  },
  {
   "cell_type": "code",
   "execution_count": 28,
   "metadata": {},
   "outputs": [
    {
     "data": {
      "text/plain": [
       "array([[   1,    2,    3,   11,  111, 1111],\n",
       "       [   4,    5,    6,   22,  222, 2222],\n",
       "       [   7,    8,    9,   33,  333, 3333]])"
      ]
     },
     "execution_count": 28,
     "metadata": {},
     "output_type": "execute_result"
    }
   ],
   "source": [
    "np.c_[xt, yt, pt, rt]"
   ]
  },
  {
   "cell_type": "code",
   "execution_count": 28,
   "metadata": {},
   "outputs": [],
   "source": [
    "tyx = np.array([1, 3])"
   ]
  },
  {
   "cell_type": "code",
   "execution_count": 30,
   "metadata": {},
   "outputs": [
    {
     "data": {
      "text/plain": [
       "2.0"
      ]
     },
     "execution_count": 30,
     "metadata": {},
     "output_type": "execute_result"
    }
   ],
   "source": [
    "tyx"
   ]
  },
  {
   "cell_type": "code",
   "execution_count": 22,
   "metadata": {},
   "outputs": [],
   "source": [
    "ddf = np.array([[1,2], [3, 4]])"
   ]
  },
  {
   "cell_type": "code",
   "execution_count": 24,
   "metadata": {},
   "outputs": [
    {
     "data": {
      "text/plain": [
       "2"
      ]
     },
     "execution_count": 24,
     "metadata": {},
     "output_type": "execute_result"
    }
   ],
   "source": [
    "len(ddf)"
   ]
  },
  {
   "cell_type": "code",
   "execution_count": 18,
   "metadata": {},
   "outputs": [],
   "source": [
    "ddt = np.array([1])"
   ]
  },
  {
   "cell_type": "code",
   "execution_count": 21,
   "metadata": {},
   "outputs": [
    {
     "data": {
      "text/plain": [
       "array([1, 1, 1, 1, 1, 1, 1, 1, 1, 1, 1, 1, 1, 1, 1])"
      ]
     },
     "execution_count": 21,
     "metadata": {},
     "output_type": "execute_result"
    }
   ],
   "source": [
    "np.repeat(ddt, 15)"
   ]
  },
  {
   "cell_type": "code",
   "execution_count": 16,
   "metadata": {},
   "outputs": [],
   "source": [
    "def convert_log_odds_to_prob2(log_odds):\n",
    "    return np.exp(log_odds) / (1 + np.exp(log_odds))"
   ]
  },
  {
   "cell_type": "code",
   "execution_count": 17,
   "metadata": {},
   "outputs": [
    {
     "data": {
      "text/plain": [
       "array([0.73105858, 0.73105858, 0.5       , 0.5       , 0.73105858,\n",
       "       0.5       , 0.73105858, 0.73105858, 0.5       , 0.5       ,\n",
       "       0.73105858])"
      ]
     },
     "execution_count": 17,
     "metadata": {},
     "output_type": "execute_result"
    }
   ],
   "source": [
    "convert_log_odds_to_prob2(dee)"
   ]
  },
  {
   "cell_type": "code",
   "execution_count": 15,
   "metadata": {},
   "outputs": [
    {
     "data": {
      "text/plain": [
       "2.718281828459045"
      ]
     },
     "execution_count": 15,
     "metadata": {},
     "output_type": "execute_result"
    }
   ],
   "source": [
    "np.exp()"
   ]
  },
  {
   "cell_type": "code",
   "execution_count": 14,
   "metadata": {},
   "outputs": [
    {
     "data": {
      "text/plain": [
       "0.5306282510621704"
      ]
     },
     "execution_count": 14,
     "metadata": {},
     "output_type": "execute_result"
    }
   ],
   "source": [
    "np.log(1.7)"
   ]
  },
  {
   "cell_type": "code",
   "execution_count": 10,
   "metadata": {},
   "outputs": [],
   "source": [
    "dee = np.array([1, 1, 0, 0, 1, 0, 1, 1, 0, 0, 1])"
   ]
  },
  {
   "cell_type": "code",
   "execution_count": 12,
   "metadata": {},
   "outputs": [
    {
     "data": {
      "text/plain": [
       "6"
      ]
     },
     "execution_count": 12,
     "metadata": {},
     "output_type": "execute_result"
    }
   ],
   "source": [
    "dee.sum()"
   ]
  },
  {
   "cell_type": "code",
   "execution_count": 13,
   "metadata": {},
   "outputs": [
    {
     "data": {
      "text/plain": [
       "5"
      ]
     },
     "execution_count": 13,
     "metadata": {},
     "output_type": "execute_result"
    }
   ],
   "source": [
    "dee.size - dee.sum()"
   ]
  },
  {
   "cell_type": "code",
   "execution_count": 11,
   "metadata": {},
   "outputs": [
    {
     "data": {
      "text/plain": [
       "6"
      ]
     },
     "execution_count": 11,
     "metadata": {},
     "output_type": "execute_result"
    }
   ],
   "source": [
    "np.count_nonzero(dee == 1)"
   ]
  },
  {
   "cell_type": "code",
   "execution_count": 12,
   "metadata": {},
   "outputs": [],
   "source": [
    "data = pd.concat([reg_X_df.iloc[:, 1:], reg_y_df], axis=1)"
   ]
  },
  {
   "cell_type": "code",
   "execution_count": null,
   "metadata": {},
   "outputs": [],
   "source": []
  },
  {
   "cell_type": "code",
   "execution_count": 18,
   "metadata": {},
   "outputs": [],
   "source": [
    "dt = DecisionTree()"
   ]
  },
  {
   "cell_type": "code",
   "execution_count": 19,
   "metadata": {},
   "outputs": [],
   "source": [
    "tre = dt.tree_builder(data.values, 'regression', max_depth=6, max_leaves_count=32, min_samples=15)#, #BoostingTypeObject=None)"
   ]
  },
  {
   "cell_type": "code",
   "execution_count": 20,
   "metadata": {},
   "outputs": [
    {
     "data": {
      "text/plain": [
       "(7, 0.43083299999999997, 6)"
      ]
     },
     "execution_count": 20,
     "metadata": {},
     "output_type": "execute_result"
    }
   ],
   "source": [
    "tre.decision_feature_index, tre.decision_feature_value, dt.tree_depth"
   ]
  },
  {
   "cell_type": "code",
   "execution_count": 21,
   "metadata": {},
   "outputs": [],
   "source": [
    "# tr = dt.print_tree(tre)"
   ]
  },
  {
   "cell_type": "code",
   "execution_count": 22,
   "metadata": {},
   "outputs": [],
   "source": [
    "predictions = dt.predict(reg_X_df.iloc[:, 1:].values, reg_y_df.values, tre)"
   ]
  },
  {
   "cell_type": "code",
   "execution_count": 23,
   "metadata": {},
   "outputs": [
    {
     "data": {
      "text/plain": [
       "0.8943929233165495"
      ]
     },
     "execution_count": 23,
     "metadata": {},
     "output_type": "execute_result"
    }
   ],
   "source": [
    "dt.calculate_r_squared(reg_y_df.values, predictions)"
   ]
  },
  {
   "cell_type": "code",
   "execution_count": null,
   "metadata": {},
   "outputs": [],
   "source": []
  },
  {
   "cell_type": "code",
   "execution_count": null,
   "metadata": {},
   "outputs": [],
   "source": []
  },
  {
   "cell_type": "code",
   "execution_count": null,
   "metadata": {},
   "outputs": [],
   "source": []
  },
  {
   "cell_type": "code",
   "execution_count": 145,
   "metadata": {},
   "outputs": [],
   "source": [
    "class GradientBoostingRegressor():\n",
    "    def __init__(self):\n",
    "        self.decision_trees = []\n",
    "        self.ml_task = \"regression\"\n",
    "        self.average_prediction\n",
    "        \n",
    "    def _create_leaf(self, name):\n",
    "        print(\"YOO HOO!\", name)\n",
    "        \n",
    "    def fit(self):\n",
    "        print(\"fit() called!\")\n",
    "        dt = DecisionTree()\n",
    "        dt.tree_builder(self)\n",
    "        \n",
    "    def predict(self):\n",
    "        pass\n",
    "    "
   ]
  },
  {
   "cell_type": "code",
   "execution_count": null,
   "metadata": {},
   "outputs": [],
   "source": [
    "class GradientBoostingClassifier():\n",
    "    def __init__(self):\n",
    "        self.decision_trees = []\n",
    "        self.ml_task = \"classification\"\n",
    "        "
   ]
  },
  {
   "cell_type": "code",
   "execution_count": 33,
   "metadata": {},
   "outputs": [],
   "source": [
    "gbr = GradientBoostingRegressor()"
   ]
  },
  {
   "cell_type": "code",
   "execution_count": 34,
   "metadata": {},
   "outputs": [
    {
     "name": "stdout",
     "output_type": "stream",
     "text": [
      "fit() called!\n",
      "YOO HOO! pratik\n"
     ]
    }
   ],
   "source": [
    "gbr.fit()"
   ]
  },
  {
   "cell_type": "code",
   "execution_count": null,
   "metadata": {},
   "outputs": [],
   "source": []
  },
  {
   "cell_type": "code",
   "execution_count": null,
   "metadata": {},
   "outputs": [],
   "source": []
  },
  {
   "cell_type": "code",
   "execution_count": null,
   "metadata": {},
   "outputs": [],
   "source": []
  },
  {
   "cell_type": "code",
   "execution_count": null,
   "metadata": {},
   "outputs": [],
   "source": []
  },
  {
   "cell_type": "code",
   "execution_count": null,
   "metadata": {},
   "outputs": [],
   "source": []
  },
  {
   "cell_type": "code",
   "execution_count": null,
   "metadata": {},
   "outputs": [],
   "source": []
  },
  {
   "cell_type": "code",
   "execution_count": 29,
   "metadata": {},
   "outputs": [],
   "source": [
    "df1 = pd.DataFrame({\"A\": [1, 2, 3, 4], \"B\": [11, 22, 33, 44]})"
   ]
  },
  {
   "cell_type": "code",
   "execution_count": 30,
   "metadata": {},
   "outputs": [
    {
     "data": {
      "text/html": [
       "<div>\n",
       "<style scoped>\n",
       "    .dataframe tbody tr th:only-of-type {\n",
       "        vertical-align: middle;\n",
       "    }\n",
       "\n",
       "    .dataframe tbody tr th {\n",
       "        vertical-align: top;\n",
       "    }\n",
       "\n",
       "    .dataframe thead th {\n",
       "        text-align: right;\n",
       "    }\n",
       "</style>\n",
       "<table border=\"1\" class=\"dataframe\">\n",
       "  <thead>\n",
       "    <tr style=\"text-align: right;\">\n",
       "      <th></th>\n",
       "      <th>A</th>\n",
       "      <th>B</th>\n",
       "    </tr>\n",
       "  </thead>\n",
       "  <tbody>\n",
       "    <tr>\n",
       "      <th>0</th>\n",
       "      <td>1</td>\n",
       "      <td>11</td>\n",
       "    </tr>\n",
       "    <tr>\n",
       "      <th>1</th>\n",
       "      <td>2</td>\n",
       "      <td>22</td>\n",
       "    </tr>\n",
       "    <tr>\n",
       "      <th>2</th>\n",
       "      <td>3</td>\n",
       "      <td>33</td>\n",
       "    </tr>\n",
       "    <tr>\n",
       "      <th>3</th>\n",
       "      <td>4</td>\n",
       "      <td>44</td>\n",
       "    </tr>\n",
       "  </tbody>\n",
       "</table>\n",
       "</div>"
      ],
      "text/plain": [
       "   A   B\n",
       "0  1  11\n",
       "1  2  22\n",
       "2  3  33\n",
       "3  4  44"
      ]
     },
     "execution_count": 30,
     "metadata": {},
     "output_type": "execute_result"
    }
   ],
   "source": [
    "df1"
   ]
  },
  {
   "cell_type": "code",
   "execution_count": 33,
   "metadata": {},
   "outputs": [
    {
     "data": {
      "text/plain": [
       "array([[ 1, 11],\n",
       "       [ 2, 22],\n",
       "       [ 3, 33],\n",
       "       [ 4, 44]], dtype=int64)"
      ]
     },
     "execution_count": 33,
     "metadata": {},
     "output_type": "execute_result"
    }
   ],
   "source": [
    "nd = df1.values\n",
    "nd"
   ]
  },
  {
   "cell_type": "code",
   "execution_count": 34,
   "metadata": {},
   "outputs": [],
   "source": [
    "def fn(ex):\n",
    "    return ex[0] + ex[1]"
   ]
  },
  {
   "cell_type": "code",
   "execution_count": 39,
   "metadata": {},
   "outputs": [
    {
     "data": {
      "text/plain": [
       "array([12, 24, 36, 48], dtype=int64)"
      ]
     },
     "execution_count": 39,
     "metadata": {},
     "output_type": "execute_result"
    }
   ],
   "source": [
    "np.apply_along_axis(fn, 1, nd)"
   ]
  },
  {
   "cell_type": "code",
   "execution_count": null,
   "metadata": {},
   "outputs": [],
   "source": []
  }
 ],
 "metadata": {
  "kernelspec": {
   "display_name": "Python 3",
   "language": "python",
   "name": "python3"
  },
  "language_info": {
   "codemirror_mode": {
    "name": "ipython",
    "version": 3
   },
   "file_extension": ".py",
   "mimetype": "text/x-python",
   "name": "python",
   "nbconvert_exporter": "python",
   "pygments_lexer": "ipython3",
   "version": "3.7.3"
  }
 },
 "nbformat": 4,
 "nbformat_minor": 4
}
