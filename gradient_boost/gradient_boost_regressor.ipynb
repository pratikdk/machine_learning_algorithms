{
 "cells": [
  {
   "cell_type": "code",
   "execution_count": 1,
   "metadata": {},
   "outputs": [],
   "source": [
    "import numpy as np\n",
    "import pandas as pd"
   ]
  },
  {
   "cell_type": "markdown",
   "metadata": {},
   "source": [
    "## Load and prepare data [Regression]"
   ]
  },
  {
   "cell_type": "markdown",
   "metadata": {},
   "source": [
    "https://www.kaggle.com/marklvl/bike-sharing-dataset"
   ]
  },
  {
   "cell_type": "code",
   "execution_count": 2,
   "metadata": {},
   "outputs": [],
   "source": [
    "reg_df = pd.read_csv(\"Bike.csv\", parse_dates=[\"dteday\"])\n",
    "reg_df = reg_df.drop([\"instant\", \"casual\", \"registered\"], axis=1)\n",
    "reg_df = reg_df.rename({\"dteday\": \"date\"}, axis=1)"
   ]
  },
  {
   "cell_type": "code",
   "execution_count": 3,
   "metadata": {},
   "outputs": [
    {
     "data": {
      "text/html": [
       "<div>\n",
       "<style scoped>\n",
       "    .dataframe tbody tr th:only-of-type {\n",
       "        vertical-align: middle;\n",
       "    }\n",
       "\n",
       "    .dataframe tbody tr th {\n",
       "        vertical-align: top;\n",
       "    }\n",
       "\n",
       "    .dataframe thead th {\n",
       "        text-align: right;\n",
       "    }\n",
       "</style>\n",
       "<table border=\"1\" class=\"dataframe\">\n",
       "  <thead>\n",
       "    <tr style=\"text-align: right;\">\n",
       "      <th></th>\n",
       "      <th>date</th>\n",
       "      <th>season</th>\n",
       "      <th>yr</th>\n",
       "      <th>mnth</th>\n",
       "      <th>holiday</th>\n",
       "      <th>weekday</th>\n",
       "      <th>workingday</th>\n",
       "      <th>weathersit</th>\n",
       "      <th>temp</th>\n",
       "      <th>atemp</th>\n",
       "      <th>hum</th>\n",
       "      <th>windspeed</th>\n",
       "      <th>cnt</th>\n",
       "    </tr>\n",
       "  </thead>\n",
       "  <tbody>\n",
       "    <tr>\n",
       "      <th>0</th>\n",
       "      <td>2011-01-01</td>\n",
       "      <td>1</td>\n",
       "      <td>0</td>\n",
       "      <td>1</td>\n",
       "      <td>0</td>\n",
       "      <td>6</td>\n",
       "      <td>0</td>\n",
       "      <td>2</td>\n",
       "      <td>0.344167</td>\n",
       "      <td>0.363625</td>\n",
       "      <td>0.805833</td>\n",
       "      <td>0.160446</td>\n",
       "      <td>985</td>\n",
       "    </tr>\n",
       "    <tr>\n",
       "      <th>1</th>\n",
       "      <td>2011-01-02</td>\n",
       "      <td>1</td>\n",
       "      <td>0</td>\n",
       "      <td>1</td>\n",
       "      <td>0</td>\n",
       "      <td>0</td>\n",
       "      <td>0</td>\n",
       "      <td>2</td>\n",
       "      <td>0.363478</td>\n",
       "      <td>0.353739</td>\n",
       "      <td>0.696087</td>\n",
       "      <td>0.248539</td>\n",
       "      <td>801</td>\n",
       "    </tr>\n",
       "    <tr>\n",
       "      <th>2</th>\n",
       "      <td>2011-01-03</td>\n",
       "      <td>1</td>\n",
       "      <td>0</td>\n",
       "      <td>1</td>\n",
       "      <td>0</td>\n",
       "      <td>1</td>\n",
       "      <td>1</td>\n",
       "      <td>1</td>\n",
       "      <td>0.196364</td>\n",
       "      <td>0.189405</td>\n",
       "      <td>0.437273</td>\n",
       "      <td>0.248309</td>\n",
       "      <td>1349</td>\n",
       "    </tr>\n",
       "  </tbody>\n",
       "</table>\n",
       "</div>"
      ],
      "text/plain": [
       "        date  season  yr  mnth  holiday  weekday  workingday  weathersit  \\\n",
       "0 2011-01-01       1   0     1        0        6           0           2   \n",
       "1 2011-01-02       1   0     1        0        0           0           2   \n",
       "2 2011-01-03       1   0     1        0        1           1           1   \n",
       "\n",
       "       temp     atemp       hum  windspeed   cnt  \n",
       "0  0.344167  0.363625  0.805833   0.160446   985  \n",
       "1  0.363478  0.353739  0.696087   0.248539   801  \n",
       "2  0.196364  0.189405  0.437273   0.248309  1349  "
      ]
     },
     "execution_count": 3,
     "metadata": {},
     "output_type": "execute_result"
    }
   ],
   "source": [
    "reg_df.head(3)"
   ]
  },
  {
   "cell_type": "code",
   "execution_count": 4,
   "metadata": {},
   "outputs": [],
   "source": [
    "reg_X_df = reg_df.iloc[:, :-1] # Input raw df\n",
    "reg_y_df = reg_df.iloc[:, -1] # Output raw df"
   ]
  },
  {
   "cell_type": "code",
   "execution_count": 5,
   "metadata": {},
   "outputs": [],
   "source": [
    "# Derive new features from date column\n",
    "date_column = reg_X_df.date\n",
    "\n",
    "reg_X_df[\"day_of_year\"] = date_column.dt.dayofyear\n",
    "reg_X_df[\"day_of_month\"] = date_column.dt.day\n",
    "reg_X_df[\"quarter\"] = date_column.dt.quarter\n",
    "reg_X_df[\"week\"] = date_column.dt.week\n",
    "reg_X_df[\"is_month_end\"] = date_column.dt.is_month_end\n",
    "reg_X_df[\"is_month_start\"] = date_column.dt.is_month_start\n",
    "reg_X_df[\"is_quarter_end\"] = date_column.dt.is_quarter_end\n",
    "reg_X_df[\"is_quarter_start\"] = date_column.dt.is_quarter_start\n",
    "reg_X_df[\"is_year_end\"] = date_column.dt.is_year_end\n",
    "reg_X_df[\"is_year_start\"] = date_column.dt.is_year_start"
   ]
  },
  {
   "cell_type": "code",
   "execution_count": 6,
   "metadata": {},
   "outputs": [
    {
     "data": {
      "text/html": [
       "<div>\n",
       "<style scoped>\n",
       "    .dataframe tbody tr th:only-of-type {\n",
       "        vertical-align: middle;\n",
       "    }\n",
       "\n",
       "    .dataframe tbody tr th {\n",
       "        vertical-align: top;\n",
       "    }\n",
       "\n",
       "    .dataframe thead th {\n",
       "        text-align: right;\n",
       "    }\n",
       "</style>\n",
       "<table border=\"1\" class=\"dataframe\">\n",
       "  <thead>\n",
       "    <tr style=\"text-align: right;\">\n",
       "      <th></th>\n",
       "      <th>date</th>\n",
       "      <th>season</th>\n",
       "      <th>yr</th>\n",
       "      <th>mnth</th>\n",
       "      <th>holiday</th>\n",
       "      <th>weekday</th>\n",
       "      <th>workingday</th>\n",
       "      <th>weathersit</th>\n",
       "      <th>temp</th>\n",
       "      <th>atemp</th>\n",
       "      <th>...</th>\n",
       "      <th>day_of_year</th>\n",
       "      <th>day_of_month</th>\n",
       "      <th>quarter</th>\n",
       "      <th>week</th>\n",
       "      <th>is_month_end</th>\n",
       "      <th>is_month_start</th>\n",
       "      <th>is_quarter_end</th>\n",
       "      <th>is_quarter_start</th>\n",
       "      <th>is_year_end</th>\n",
       "      <th>is_year_start</th>\n",
       "    </tr>\n",
       "  </thead>\n",
       "  <tbody>\n",
       "    <tr>\n",
       "      <th>0</th>\n",
       "      <td>2011-01-01</td>\n",
       "      <td>1</td>\n",
       "      <td>0</td>\n",
       "      <td>1</td>\n",
       "      <td>0</td>\n",
       "      <td>6</td>\n",
       "      <td>0</td>\n",
       "      <td>2</td>\n",
       "      <td>0.344167</td>\n",
       "      <td>0.363625</td>\n",
       "      <td>...</td>\n",
       "      <td>1</td>\n",
       "      <td>1</td>\n",
       "      <td>1</td>\n",
       "      <td>52</td>\n",
       "      <td>False</td>\n",
       "      <td>True</td>\n",
       "      <td>False</td>\n",
       "      <td>True</td>\n",
       "      <td>False</td>\n",
       "      <td>True</td>\n",
       "    </tr>\n",
       "    <tr>\n",
       "      <th>1</th>\n",
       "      <td>2011-01-02</td>\n",
       "      <td>1</td>\n",
       "      <td>0</td>\n",
       "      <td>1</td>\n",
       "      <td>0</td>\n",
       "      <td>0</td>\n",
       "      <td>0</td>\n",
       "      <td>2</td>\n",
       "      <td>0.363478</td>\n",
       "      <td>0.353739</td>\n",
       "      <td>...</td>\n",
       "      <td>2</td>\n",
       "      <td>2</td>\n",
       "      <td>1</td>\n",
       "      <td>52</td>\n",
       "      <td>False</td>\n",
       "      <td>False</td>\n",
       "      <td>False</td>\n",
       "      <td>False</td>\n",
       "      <td>False</td>\n",
       "      <td>False</td>\n",
       "    </tr>\n",
       "    <tr>\n",
       "      <th>2</th>\n",
       "      <td>2011-01-03</td>\n",
       "      <td>1</td>\n",
       "      <td>0</td>\n",
       "      <td>1</td>\n",
       "      <td>0</td>\n",
       "      <td>1</td>\n",
       "      <td>1</td>\n",
       "      <td>1</td>\n",
       "      <td>0.196364</td>\n",
       "      <td>0.189405</td>\n",
       "      <td>...</td>\n",
       "      <td>3</td>\n",
       "      <td>3</td>\n",
       "      <td>1</td>\n",
       "      <td>1</td>\n",
       "      <td>False</td>\n",
       "      <td>False</td>\n",
       "      <td>False</td>\n",
       "      <td>False</td>\n",
       "      <td>False</td>\n",
       "      <td>False</td>\n",
       "    </tr>\n",
       "  </tbody>\n",
       "</table>\n",
       "<p>3 rows × 22 columns</p>\n",
       "</div>"
      ],
      "text/plain": [
       "        date  season  yr  mnth  holiday  weekday  workingday  weathersit  \\\n",
       "0 2011-01-01       1   0     1        0        6           0           2   \n",
       "1 2011-01-02       1   0     1        0        0           0           2   \n",
       "2 2011-01-03       1   0     1        0        1           1           1   \n",
       "\n",
       "       temp     atemp  ...  day_of_year  day_of_month  quarter  week  \\\n",
       "0  0.344167  0.363625  ...            1             1        1    52   \n",
       "1  0.363478  0.353739  ...            2             2        1    52   \n",
       "2  0.196364  0.189405  ...            3             3        1     1   \n",
       "\n",
       "   is_month_end  is_month_start  is_quarter_end  is_quarter_start  \\\n",
       "0         False            True           False              True   \n",
       "1         False           False           False             False   \n",
       "2         False           False           False             False   \n",
       "\n",
       "   is_year_end  is_year_start  \n",
       "0        False           True  \n",
       "1        False          False  \n",
       "2        False          False  \n",
       "\n",
       "[3 rows x 22 columns]"
      ]
     },
     "execution_count": 6,
     "metadata": {},
     "output_type": "execute_result"
    }
   ],
   "source": [
    "reg_X_df.head(3)"
   ]
  },
  {
   "cell_type": "code",
   "execution_count": 7,
   "metadata": {},
   "outputs": [
    {
     "data": {
      "text/plain": [
       "0     985\n",
       "1     801\n",
       "2    1349\n",
       "Name: cnt, dtype: int64"
      ]
     },
     "execution_count": 7,
     "metadata": {},
     "output_type": "execute_result"
    }
   ],
   "source": [
    "reg_y_df.head(3)"
   ]
  },
  {
   "cell_type": "code",
   "execution_count": 8,
   "metadata": {},
   "outputs": [],
   "source": [
    "data = pd.concat([reg_X_df.iloc[:, 1:], reg_y_df], axis=1)"
   ]
  },
  {
   "cell_type": "code",
   "execution_count": 9,
   "metadata": {},
   "outputs": [],
   "source": [
    "class DecisionNode():\n",
    "    def __init__(self):\n",
    "        self.decision_feature_index = None\n",
    "        self.decision_feature_value = None \n",
    "        self.left_node = None\n",
    "        self.right_node = None\n",
    "        self.comparator_type_str = None"
   ]
  },
  {
   "cell_type": "code",
   "execution_count": 10,
   "metadata": {},
   "outputs": [],
   "source": [
    "class DecisionTree():\n",
    "    def __init__(self):\n",
    "        self.tree_depth = 0\n",
    "        self.leaves_count = 0\n",
    "        self.feature_types = None\n",
    "        self.potential_splits = None\n",
    "        \n",
    "    def tree_builder(self, data, ml_task, max_depth=5, max_leaves_count=8, min_samples=2, BoostingTypeObject=None, current_depth=0):\n",
    "        #name = \"pratik\"\n",
    "        #self._create_leaf(alg, name)\n",
    "        if current_depth == 0:\n",
    "            self.feature_types = self._determine_type_of_features(data)\n",
    "            self.potential_splits = self._get_potential_splits(data)\n",
    "            \n",
    "        # Make leaf or split\n",
    "        if (self._check_purity(data)) or (len(data) < min_samples) or (current_depth >= max_depth) or (self.leaves_count >= max_leaves_count):\n",
    "            leaf = self._create_leaf(data, ml_task)\n",
    "            self.leaves_count += 1\n",
    "            return leaf\n",
    "        else:\n",
    "            # increase current_depth since we are spliting a node\n",
    "            current_depth += 1\n",
    "            \n",
    "            # Perform greedy search and find the best split feature and value\n",
    "            split_column, split_value = self._determine_best_split(data, self.potential_splits, ml_task)\n",
    "            data_below, data_above = self._split_data(data, split_column, split_value)\n",
    "            \n",
    "            if len(data_below) == 0 or len(data_above) == 0:\n",
    "                leaf = self._create_leaf(data, ml_task)\n",
    "                self.leaves_count += 1\n",
    "                return leaf\n",
    "            \n",
    "            type_of_feature = self.feature_types[split_column]\n",
    "            \n",
    "            # Recursive call # Splits until limits or leaves reached\n",
    "            yes_answer = self.tree_builder(data_below, ml_task, max_depth, max_leaves_count, min_samples, BoostingTypeObject, current_depth)\n",
    "            no_answer = self.tree_builder(data_above, ml_task, max_depth, max_leaves_count, min_samples, BoostingTypeObject, current_depth)\n",
    "            \n",
    "            if not isinstance(yes_answer, DecisionNode) and not isinstance(no_answer, DecisionNode):\n",
    "                yes_answer.sort()\n",
    "                no_answer.sort()\n",
    "                if yes_answer == no_answer:\n",
    "                    # since both the answers are same, reduce increased increased depth by one and also over\n",
    "                    current_depth -= 1 \n",
    "                    return yes_answer\n",
    "                \n",
    "            if self.tree_depth < current_depth: # Note final tree depth\n",
    "                self.tree_depth = current_depth\n",
    "        \n",
    "            # Instantiate a Decision node to store the output of current recursion\n",
    "            decision_node = DecisionNode()\n",
    "            decision_node.decision_feature_index = split_column\n",
    "            decision_node.decision_feature_value = split_value\n",
    "            decision_node.comparator_type_str = type_of_feature\n",
    "            decision_node.left_node = yes_answer\n",
    "            decision_node.right_node = no_answer\n",
    "            \n",
    "            return decision_node\n",
    "\n",
    "    def _determine_type_of_features(self, X):\n",
    "        \"\"\"\n",
    "        Determine, if the feature is categorical or continuous\n",
    "        \"\"\"\n",
    "        feature_types = []\n",
    "        n_unique_values_treshold = 15 # Threshold for a numeric feature to be categorical\n",
    "        \n",
    "        n_samples, n_features = np.shape(X)\n",
    "        \n",
    "        for feature_i in range(n_features):\n",
    "            unique_values = np.unique(X[:, feature_i])\n",
    "            example_value = unique_values[0]\n",
    "\n",
    "            if (isinstance(example_value, str)) or (len(unique_values) <= n_unique_values_treshold):\n",
    "                feature_types.append(\"categorical\")\n",
    "            else:\n",
    "                feature_types.append(\"continuous\")\n",
    "\n",
    "        return feature_types\n",
    "    \n",
    "        \n",
    "    def _get_potential_splits(self, X):\n",
    "    \n",
    "        potential_splits = {}\n",
    "        _, n_columns = X.shape\n",
    "        for column_index in range(n_columns - 1):\n",
    "            values = X[:, column_index]\n",
    "            unique_values = np.unique(values)\n",
    "\n",
    "            potential_splits[column_index] = unique_values\n",
    "\n",
    "        return potential_splits\n",
    "        \n",
    "        \n",
    "    def _calculate_mse(self, data):\n",
    "        actual_values = data[:, -1]\n",
    "        if len(actual_values) == 0:   # empty data\n",
    "            mse = 0\n",
    "\n",
    "        else:\n",
    "            prediction = np.mean(actual_values)\n",
    "            mse = np.mean((actual_values - prediction) **2)\n",
    "\n",
    "        return mse\n",
    "    \n",
    "        \n",
    "    def _calculate_entropy(self, data):\n",
    "    \n",
    "        label_column = data[:, -1]\n",
    "        _, counts = np.unique(label_column, return_counts=True)\n",
    "\n",
    "        probabilities = counts / counts.sum()\n",
    "        entropy = sum(probabilities * -np.log2(probabilities))\n",
    "\n",
    "        return entropy\n",
    "    \n",
    "\n",
    "    def _calculate_overall_metric(self, data_below, data_above, metric_function):\n",
    "    \n",
    "        n = len(data_below) + len(data_above)\n",
    "        p_data_below = len(data_below) / n\n",
    "        p_data_above = len(data_above) / n\n",
    "\n",
    "        overall_metric =  (p_data_below * metric_function(data_below) \n",
    "                         + p_data_above * metric_function(data_above))\n",
    "\n",
    "        return overall_metric\n",
    "    \n",
    "    \n",
    "    def _determine_best_split(self, data, potential_splits, ml_task):\n",
    "    \n",
    "        # Best minimum gini index to be updated iteratively\n",
    "        best_overall_metric = float('inf')\n",
    "        \n",
    "        for column_index in potential_splits:\n",
    "            for value in potential_splits[column_index]:\n",
    "                data_below, data_above = self._split_data(data, split_column=column_index, split_value=value)\n",
    "\n",
    "                if ml_task == \"regression\":\n",
    "                    current_overall_metric = self._calculate_overall_metric(data_below, data_above, metric_function=self._calculate_mse)\n",
    "                else: # classification\n",
    "                    current_overall_metric = self._calculate_overall_metric(data_below, data_above, metric_function=self._calculate_entropy)\n",
    "                    \n",
    "                # If a lower overall_metric is achieved update the index and value with the current\n",
    "                if current_overall_metric != None and current_overall_metric <= best_overall_metric:\n",
    "\n",
    "                    best_overall_metric = current_overall_metric\n",
    "                    best_split_column = column_index\n",
    "                    best_split_value = value\n",
    "\n",
    "        return best_split_column, best_split_value\n",
    "    \n",
    "    \n",
    "    def _split_data(self, data, split_column, split_value):\n",
    "    \n",
    "        split_column_values = data[:, split_column]\n",
    "\n",
    "        type_of_feature = self.feature_types[split_column]\n",
    "        \n",
    "        if type_of_feature == \"continuous\":\n",
    "            data_below = data[split_column_values <= split_value]\n",
    "            data_above = data[split_column_values >  split_value]\n",
    "  \n",
    "        else: # feature is categorical \n",
    "            data_below = data[split_column_values == split_value]\n",
    "            data_above = data[split_column_values != split_value]\n",
    "\n",
    "        return data_below, data_above \n",
    "\n",
    "\n",
    "    def _check_purity(self, data):\n",
    "    \n",
    "        label_column = data[:, -1]\n",
    "        unique_classes = np.unique(label_column)\n",
    "\n",
    "        if len(unique_classes) == 1:\n",
    "            return True\n",
    "        else:\n",
    "            return False\n",
    "        \n",
    "    \n",
    "#     def _create_leaf(self, data, ml_task):\n",
    "        \n",
    "#         label_column = data[:, -1]\n",
    "#         if ml_task == \"regression\":\n",
    "#             leaf = np.mean(label_column)\n",
    "\n",
    "#         # classfication    \n",
    "#         else:\n",
    "#             unique_classes, counts_unique_classes = np.unique(label_column, return_counts=True)\n",
    "#             index = counts_unique_classes.argmax()\n",
    "#             leaf = unique_classes[index]\n",
    "\n",
    "#         return leaf\n",
    "\n",
    "    def _create_leaf(self, data, ml_task):\n",
    "        \n",
    "        label_column = data[:, -1]\n",
    "        leaf = np.unique(label_column).tolist()\n",
    "#         if ml_task == \"regression\":\n",
    "#             leaf = np.mean(label_column)\n",
    "\n",
    "#         # classfication    \n",
    "#         else:\n",
    "#             unique_classes, counts_unique_classes = np.unique(label_column, return_counts=True)\n",
    "#             index = counts_unique_classes.argmax()\n",
    "#             leaf = unique_classes[index]\n",
    "\n",
    "        return leaf\n",
    "    \n",
    "#     def _create_leaf(self, alg, name):#, data):\n",
    "#         alg._create_leaf(name)"
   ]
  },
  {
   "cell_type": "code",
   "execution_count": 11,
   "metadata": {},
   "outputs": [],
   "source": [
    "dt = DecisionTree()"
   ]
  },
  {
   "cell_type": "code",
   "execution_count": null,
   "metadata": {},
   "outputs": [],
   "source": []
  },
  {
   "cell_type": "code",
   "execution_count": 12,
   "metadata": {},
   "outputs": [],
   "source": [
    "tre = dt.tree_builder(data.values, 'regression', max_depth=5, max_leaves_count=8, min_samples=2, BoostingTypeObject=None)"
   ]
  },
  {
   "cell_type": "code",
   "execution_count": 44,
   "metadata": {},
   "outputs": [],
   "source": [
    "from pprint import pprint"
   ]
  },
  {
   "cell_type": "code",
   "execution_count": 13,
   "metadata": {},
   "outputs": [
    {
     "data": {
      "text/plain": [
       "7"
      ]
     },
     "execution_count": 13,
     "metadata": {},
     "output_type": "execute_result"
    }
   ],
   "source": [
    "tre.decision_feature_index"
   ]
  },
  {
   "cell_type": "code",
   "execution_count": 14,
   "metadata": {},
   "outputs": [
    {
     "data": {
      "text/plain": [
       "0.43083299999999997"
      ]
     },
     "execution_count": 14,
     "metadata": {},
     "output_type": "execute_result"
    }
   ],
   "source": [
    "tre.decision_feature_value"
   ]
  },
  {
   "cell_type": "code",
   "execution_count": 32,
   "metadata": {},
   "outputs": [],
   "source": [
    "class GradientBoostingRegressor():\n",
    "    def __init__(self):\n",
    "        self.decision_trees = []\n",
    "        \n",
    "    def _create_leaf(self, name):\n",
    "        print(\"YOO HOO!\", name)\n",
    "        \n",
    "    def fit(self):\n",
    "        print(\"fit() called!\")\n",
    "        dt = DecisionTree()\n",
    "        dt.tree_builder(self)\n",
    "        \n",
    "    def predict(self):\n",
    "        pass\n",
    "    "
   ]
  },
  {
   "cell_type": "code",
   "execution_count": 33,
   "metadata": {},
   "outputs": [],
   "source": [
    "gbr = GradientBoostingRegressor()"
   ]
  },
  {
   "cell_type": "code",
   "execution_count": 34,
   "metadata": {},
   "outputs": [
    {
     "name": "stdout",
     "output_type": "stream",
     "text": [
      "fit() called!\n",
      "YOO HOO! pratik\n"
     ]
    }
   ],
   "source": [
    "gbr.fit()"
   ]
  },
  {
   "cell_type": "code",
   "execution_count": null,
   "metadata": {},
   "outputs": [],
   "source": []
  },
  {
   "cell_type": "code",
   "execution_count": null,
   "metadata": {},
   "outputs": [],
   "source": []
  },
  {
   "cell_type": "code",
   "execution_count": null,
   "metadata": {},
   "outputs": [],
   "source": []
  },
  {
   "cell_type": "code",
   "execution_count": null,
   "metadata": {},
   "outputs": [],
   "source": []
  },
  {
   "cell_type": "code",
   "execution_count": null,
   "metadata": {},
   "outputs": [],
   "source": []
  },
  {
   "cell_type": "code",
   "execution_count": null,
   "metadata": {},
   "outputs": [],
   "source": []
  },
  {
   "cell_type": "code",
   "execution_count": 36,
   "metadata": {},
   "outputs": [],
   "source": [
    "hu = np.array([4, 2, 4, 2])"
   ]
  },
  {
   "cell_type": "code",
   "execution_count": 37,
   "metadata": {},
   "outputs": [],
   "source": [
    "unique_classes, counts_unique_classes = np.unique(hu, return_counts=True)\n",
    "index = counts_unique_classes.argmax()\n",
    "leaf = unique_classes[index]"
   ]
  },
  {
   "cell_type": "code",
   "execution_count": 38,
   "metadata": {},
   "outputs": [
    {
     "data": {
      "text/plain": [
       "2"
      ]
     },
     "execution_count": 38,
     "metadata": {},
     "output_type": "execute_result"
    }
   ],
   "source": [
    "leaf"
   ]
  },
  {
   "cell_type": "code",
   "execution_count": 39,
   "metadata": {},
   "outputs": [
    {
     "data": {
      "text/plain": [
       "0"
      ]
     },
     "execution_count": 39,
     "metadata": {},
     "output_type": "execute_result"
    }
   ],
   "source": [
    "index"
   ]
  },
  {
   "cell_type": "code",
   "execution_count": 40,
   "metadata": {},
   "outputs": [
    {
     "data": {
      "text/plain": [
       "array([2, 4])"
      ]
     },
     "execution_count": 40,
     "metadata": {},
     "output_type": "execute_result"
    }
   ],
   "source": [
    "unique_classes"
   ]
  },
  {
   "cell_type": "code",
   "execution_count": null,
   "metadata": {},
   "outputs": [],
   "source": []
  },
  {
   "cell_type": "code",
   "execution_count": 44,
   "metadata": {},
   "outputs": [
    {
     "data": {
      "text/plain": [
       "False"
      ]
     },
     "execution_count": 44,
     "metadata": {},
     "output_type": "execute_result"
    }
   ],
   "source": [
    "[1, 2] == [2, 1]"
   ]
  },
  {
   "cell_type": "code",
   "execution_count": 45,
   "metadata": {},
   "outputs": [
    {
     "data": {
      "text/plain": [
       "True"
      ]
     },
     "execution_count": 45,
     "metadata": {},
     "output_type": "execute_result"
    }
   ],
   "source": [
    "[1, 2] == [1, 2]"
   ]
  },
  {
   "cell_type": "code",
   "execution_count": 57,
   "metadata": {},
   "outputs": [
    {
     "data": {
      "text/plain": [
       "True"
      ]
     },
     "execution_count": 57,
     "metadata": {},
     "output_type": "execute_result"
    }
   ],
   "source": [
    "[1, 2].sort() == [2, 1, 3].sort()"
   ]
  },
  {
   "cell_type": "code",
   "execution_count": 64,
   "metadata": {},
   "outputs": [
    {
     "data": {
      "text/plain": [
       "True"
      ]
     },
     "execution_count": 64,
     "metadata": {},
     "output_type": "execute_result"
    }
   ],
   "source": [
    "(['a', 'b'].sort()) == (['b', 'a', 'd'].sort())"
   ]
  },
  {
   "cell_type": "code",
   "execution_count": 55,
   "metadata": {},
   "outputs": [
    {
     "data": {
      "text/plain": [
       "[2, 1, 1]"
      ]
     },
     "execution_count": 55,
     "metadata": {},
     "output_type": "execute_result"
    }
   ],
   "source": [
    "np.all([[1,2],[2,1,1]], axis=0)"
   ]
  },
  {
   "cell_type": "code",
   "execution_count": 65,
   "metadata": {},
   "outputs": [],
   "source": [
    "hh = ['a', 'b']"
   ]
  },
  {
   "cell_type": "code",
   "execution_count": 58,
   "metadata": {},
   "outputs": [],
   "source": [
    "hh.sort()"
   ]
  },
  {
   "cell_type": "code",
   "execution_count": 66,
   "metadata": {},
   "outputs": [],
   "source": [
    "h1 = ['b', 'a', 'd']"
   ]
  },
  {
   "cell_type": "code",
   "execution_count": 69,
   "metadata": {},
   "outputs": [],
   "source": [
    "h1.sort()"
   ]
  },
  {
   "cell_type": "code",
   "execution_count": 61,
   "metadata": {},
   "outputs": [
    {
     "data": {
      "text/plain": [
       "False"
      ]
     },
     "execution_count": 61,
     "metadata": {},
     "output_type": "execute_result"
    }
   ],
   "source": [
    "hh == h1"
   ]
  },
  {
   "cell_type": "code",
   "execution_count": 67,
   "metadata": {},
   "outputs": [
    {
     "data": {
      "text/plain": [
       "['a', 'b']"
      ]
     },
     "execution_count": 67,
     "metadata": {},
     "output_type": "execute_result"
    }
   ],
   "source": [
    "hh"
   ]
  },
  {
   "cell_type": "code",
   "execution_count": 71,
   "metadata": {},
   "outputs": [
    {
     "data": {
      "text/plain": [
       "['a', 'b', 'd']"
      ]
     },
     "execution_count": 71,
     "metadata": {},
     "output_type": "execute_result"
    }
   ],
   "source": [
    "h1"
   ]
  },
  {
   "cell_type": "code",
   "execution_count": null,
   "metadata": {},
   "outputs": [],
   "source": []
  }
 ],
 "metadata": {
  "kernelspec": {
   "display_name": "Python 3",
   "language": "python",
   "name": "python3"
  },
  "language_info": {
   "codemirror_mode": {
    "name": "ipython",
    "version": 3
   },
   "file_extension": ".py",
   "mimetype": "text/x-python",
   "name": "python",
   "nbconvert_exporter": "python",
   "pygments_lexer": "ipython3",
   "version": "3.7.3"
  }
 },
 "nbformat": 4,
 "nbformat_minor": 4
}
