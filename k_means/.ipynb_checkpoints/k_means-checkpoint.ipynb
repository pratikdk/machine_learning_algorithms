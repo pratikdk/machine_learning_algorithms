{
 "cells": [
  {
   "cell_type": "markdown",
   "metadata": {},
   "source": [
    "# K Means from scratch"
   ]
  },
  {
   "cell_type": "code",
   "execution_count": 1,
   "metadata": {},
   "outputs": [],
   "source": [
    "import numpy as np\n",
    "import pandas as pd"
   ]
  },
  {
   "cell_type": "markdown",
   "metadata": {},
   "source": [
    "## Load and prepare data"
   ]
  },
  {
   "cell_type": "code",
   "execution_count": 2,
   "metadata": {},
   "outputs": [],
   "source": [
    "clf_df = pd.read_csv(\"Iris.csv\")\n",
    "clf_df = clf_df.drop(\"Id\", axis=1)\n",
    "clf_df = clf_df.rename(columns={\"species\": \"label\"})"
   ]
  },
  {
   "cell_type": "code",
   "execution_count": 3,
   "metadata": {},
   "outputs": [
    {
     "data": {
      "text/html": [
       "<div>\n",
       "<style scoped>\n",
       "    .dataframe tbody tr th:only-of-type {\n",
       "        vertical-align: middle;\n",
       "    }\n",
       "\n",
       "    .dataframe tbody tr th {\n",
       "        vertical-align: top;\n",
       "    }\n",
       "\n",
       "    .dataframe thead th {\n",
       "        text-align: right;\n",
       "    }\n",
       "</style>\n",
       "<table border=\"1\" class=\"dataframe\">\n",
       "  <thead>\n",
       "    <tr style=\"text-align: right;\">\n",
       "      <th></th>\n",
       "      <th>sepal_length</th>\n",
       "      <th>sepal_width</th>\n",
       "      <th>petal_length</th>\n",
       "      <th>petal_width</th>\n",
       "      <th>label</th>\n",
       "    </tr>\n",
       "  </thead>\n",
       "  <tbody>\n",
       "    <tr>\n",
       "      <th>0</th>\n",
       "      <td>5.1</td>\n",
       "      <td>3.5</td>\n",
       "      <td>1.4</td>\n",
       "      <td>0.2</td>\n",
       "      <td>Iris-setosa</td>\n",
       "    </tr>\n",
       "    <tr>\n",
       "      <th>1</th>\n",
       "      <td>4.9</td>\n",
       "      <td>3.0</td>\n",
       "      <td>1.4</td>\n",
       "      <td>0.2</td>\n",
       "      <td>Iris-setosa</td>\n",
       "    </tr>\n",
       "    <tr>\n",
       "      <th>2</th>\n",
       "      <td>4.7</td>\n",
       "      <td>3.2</td>\n",
       "      <td>1.3</td>\n",
       "      <td>0.2</td>\n",
       "      <td>Iris-setosa</td>\n",
       "    </tr>\n",
       "  </tbody>\n",
       "</table>\n",
       "</div>"
      ],
      "text/plain": [
       "   sepal_length  sepal_width  petal_length  petal_width        label\n",
       "0           5.1          3.5           1.4          0.2  Iris-setosa\n",
       "1           4.9          3.0           1.4          0.2  Iris-setosa\n",
       "2           4.7          3.2           1.3          0.2  Iris-setosa"
      ]
     },
     "execution_count": 3,
     "metadata": {},
     "output_type": "execute_result"
    }
   ],
   "source": [
    "clf_df.head(3)"
   ]
  },
  {
   "cell_type": "code",
   "execution_count": 4,
   "metadata": {},
   "outputs": [],
   "source": [
    "clf_X_df = clf_df.iloc[:, :-1]\n",
    "clf_y_df = clf_df.iloc[:, -1]"
   ]
  },
  {
   "cell_type": "code",
   "execution_count": 5,
   "metadata": {},
   "outputs": [
    {
     "data": {
      "text/html": [
       "<div>\n",
       "<style scoped>\n",
       "    .dataframe tbody tr th:only-of-type {\n",
       "        vertical-align: middle;\n",
       "    }\n",
       "\n",
       "    .dataframe tbody tr th {\n",
       "        vertical-align: top;\n",
       "    }\n",
       "\n",
       "    .dataframe thead th {\n",
       "        text-align: right;\n",
       "    }\n",
       "</style>\n",
       "<table border=\"1\" class=\"dataframe\">\n",
       "  <thead>\n",
       "    <tr style=\"text-align: right;\">\n",
       "      <th></th>\n",
       "      <th>sepal_length</th>\n",
       "      <th>sepal_width</th>\n",
       "      <th>petal_length</th>\n",
       "      <th>petal_width</th>\n",
       "    </tr>\n",
       "  </thead>\n",
       "  <tbody>\n",
       "    <tr>\n",
       "      <th>0</th>\n",
       "      <td>5.1</td>\n",
       "      <td>3.5</td>\n",
       "      <td>1.4</td>\n",
       "      <td>0.2</td>\n",
       "    </tr>\n",
       "    <tr>\n",
       "      <th>1</th>\n",
       "      <td>4.9</td>\n",
       "      <td>3.0</td>\n",
       "      <td>1.4</td>\n",
       "      <td>0.2</td>\n",
       "    </tr>\n",
       "    <tr>\n",
       "      <th>2</th>\n",
       "      <td>4.7</td>\n",
       "      <td>3.2</td>\n",
       "      <td>1.3</td>\n",
       "      <td>0.2</td>\n",
       "    </tr>\n",
       "  </tbody>\n",
       "</table>\n",
       "</div>"
      ],
      "text/plain": [
       "   sepal_length  sepal_width  petal_length  petal_width\n",
       "0           5.1          3.5           1.4          0.2\n",
       "1           4.9          3.0           1.4          0.2\n",
       "2           4.7          3.2           1.3          0.2"
      ]
     },
     "execution_count": 5,
     "metadata": {},
     "output_type": "execute_result"
    }
   ],
   "source": [
    "clf_X_df.head(3)"
   ]
  },
  {
   "cell_type": "code",
   "execution_count": 6,
   "metadata": {},
   "outputs": [
    {
     "data": {
      "text/plain": [
       "0    Iris-setosa\n",
       "1    Iris-setosa\n",
       "2    Iris-setosa\n",
       "Name: label, dtype: object"
      ]
     },
     "execution_count": 6,
     "metadata": {},
     "output_type": "execute_result"
    }
   ],
   "source": [
    "clf_y_df.head(3)"
   ]
  },
  {
   "cell_type": "markdown",
   "metadata": {},
   "source": [
    "## Algorithm "
   ]
  },
  {
   "cell_type": "code",
   "execution_count": 7,
   "metadata": {},
   "outputs": [],
   "source": [
    "class KMeans():\n",
    "    def __init__(self, n_clusters=None):\n",
    "        self.n_clusters = n_clusters\n",
    "        self.centroids = []\n",
    "        self.target = None\n",
    "        \n",
    "    def _compute_euclidean_distance(self, X, centroids):\n",
    "        centroids = np.array(centroids)[:, np.newaxis] # Since we are performing point wise subtraction for each centroid [X_matrix - centroid_matrix]\n",
    "        return np.sqrt(np.sum((X - centroids)**2, axis=-1))\n",
    "    \n",
    "    def _kpp_centroid_initialization(self, X): # K++ centroid initialization\n",
    "        # Randomly sample the first centroid[row]\n",
    "        random_centroid_index = np.random.randint(len(X), size=1)\n",
    "        random_centroid_row = X[random_centroid_index, :][0]\n",
    "        self.centroids.append(random_centroid_row) # Append it to the list of centroids\n",
    "        \n",
    "        # Iterative process for the next set of remaining centroids\n",
    "        while len(self.centroids) < self.n_clusters:\n",
    "            # Compute Euclidean distance w.r.t to existing centroids(in self.centroids) for each example\n",
    "            all_centroid_distances = (self._compute_euclidean_distance(X, self.centroids)).T\n",
    "            # Consider the mininum distance from the distances w.r.t to each centroid,(it means considering only distance w.r.t nearest centroid)\n",
    "            nearest_centroid_distances = np.min(all_centroid_distances, axis=-1)\n",
    "            # Square the nearest_centroid_distances\n",
    "            nearest_centroid_distances = nearest_centroid_distances**2\n",
    "            # find the index of max(squared nearest_centroid_distances) to be selected as index respresenting a row from the orignal X as our centroid\n",
    "            nearest_centroid_row_index = np.argmax(nearest_centroid_distances)\n",
    "            nearest_centroid_row = X[nearest_centroid_row_index, :]\n",
    "            # Append this row to the list of centroids\n",
    "            self.centroids.append(nearest_centroid_row)\n",
    "    \n",
    "    def fit(self, X, y, n_iterations):\n",
    "        # Save targets for prediction\n",
    "        self.target = y\n",
    "        \n",
    "        # Initialize centroids for about n_clusters using K++ initialization\n",
    "        self._kpp_centroid_initialization(X)\n",
    "        # Iteratively perform k means\n",
    "        current_iteration = 0\n",
    "        while (n_iterations > current_iteration):\n",
    "            current_iteration += 1\n",
    "            new_centroids = self.centroids.copy()\n",
    "            # Compute Euclidean distance w.r.t to existing centroids(in self.centroids) for each example\n",
    "            x_cluster_distances = (self._compute_euclidean_distance(X, self.centroids)).T\n",
    "            # Choose nearest(smallest) cluster distance for each example and assign cluster index accordingly each example\n",
    "            x_cluster_indexes = np.argmin(x_cluster_distances, axis=-1)\n",
    "            # Modify cluster centroids (In K-means we take mean[per axis] of points[rows] within each cluster)\n",
    "            for k in range(self.n_clusters):\n",
    "                kth_centroid = np.mean(X[x_cluster_indexes == k], axis=0)\n",
    "                new_centroids[k] = kth_centroid\n",
    "            # Compute centroid_delta\n",
    "            centroid_delta = np.sqrt(np.sum((np.array(new_centroids) - np.array(self.centroids))**2))\n",
    "            # Continue looping only if centroids are shifting\n",
    "            if centroid_delta == 0:\n",
    "                break\n",
    "            # Save new_centroids\n",
    "            self.centroids = new_centroids\n",
    "    \n",
    "    def predict(self, X):\n",
    "        # Use saved centroids to predict cluster for each examples\n",
    "        x_cluster_distances = (self._compute_euclidean_distance(X, self.centroids)).T\n",
    "        # Choose nearest(smallest) cluster distance for each example and assign cluster index accordingly each example\n",
    "        x_cluster_indexes = np.argmin(x_cluster_distances, axis=-1)\n",
    "        # Take majority vote per cluster for classification\n",
    "        cluster_index_lables = []\n",
    "        for k in range(self.n_clusters):\n",
    "            target_values = self.target[x_cluster_indexes == k]\n",
    "            (values, counts) = np.unique(target_values, return_counts=True)\n",
    "            ind = np.argmax(counts)\n",
    "            majority_vote_value = values[ind]\n",
    "            cluster_index_lables.append(majority_vote_value)\n",
    "        predictions = x_cluster_indexes.copy()\n",
    "        # Replace index with label\n",
    "        for i, k_label in enumerate(cluster_index_lables):\n",
    "            predictions = np.where(x_cluster_indexes == i, cluster_index_lables[i], predictions)\n",
    "        \n",
    "        return predictions"
   ]
  },
  {
   "cell_type": "code",
   "execution_count": 8,
   "metadata": {},
   "outputs": [],
   "source": [
    "kmeans = KMeans(n_clusters=3)"
   ]
  },
  {
   "cell_type": "code",
   "execution_count": 9,
   "metadata": {},
   "outputs": [],
   "source": [
    "kmeans.fit(clf_X_df.values, clf_y_df.values, 20)"
   ]
  },
  {
   "cell_type": "code",
   "execution_count": 10,
   "metadata": {},
   "outputs": [],
   "source": [
    "predictions = kmeans.predict(clf_X_df.values)"
   ]
  },
  {
   "cell_type": "markdown",
   "metadata": {},
   "source": [
    "## Performance"
   ]
  },
  {
   "cell_type": "code",
   "execution_count": 11,
   "metadata": {},
   "outputs": [],
   "source": [
    "def accuracy_classification(y_true, y_pred):\n",
    "    accuracy = np.sum(y_true == y_pred, axis=0) / len(y_true)\n",
    "    return accuracy"
   ]
  },
  {
   "cell_type": "code",
   "execution_count": 12,
   "metadata": {},
   "outputs": [
    {
     "data": {
      "text/plain": [
       "0.8933333333333333"
      ]
     },
     "execution_count": 12,
     "metadata": {},
     "output_type": "execute_result"
    }
   ],
   "source": [
    "accuracy_classification(clf_y_df.values, predictions)"
   ]
  },
  {
   "cell_type": "code",
   "execution_count": null,
   "metadata": {},
   "outputs": [],
   "source": []
  }
 ],
 "metadata": {
  "kernelspec": {
   "display_name": "Python 3",
   "language": "python",
   "name": "python3"
  },
  "language_info": {
   "codemirror_mode": {
    "name": "ipython",
    "version": 3
   },
   "file_extension": ".py",
   "mimetype": "text/x-python",
   "name": "python",
   "nbconvert_exporter": "python",
   "pygments_lexer": "ipython3",
   "version": "3.7.3"
  }
 },
 "nbformat": 4,
 "nbformat_minor": 4
}
