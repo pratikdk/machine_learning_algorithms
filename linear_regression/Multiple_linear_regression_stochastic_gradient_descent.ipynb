{
 "cells": [
  {
   "cell_type": "markdown",
   "metadata": {},
   "source": [
    "## Multiple Linear Regression using Stochastic Gradient Descent"
   ]
  },
  {
   "cell_type": "code",
   "execution_count": 81,
   "metadata": {},
   "outputs": [],
   "source": [
    "%matplotlib inline\n",
    "import numpy as np\n",
    "import pandas as pd\n",
    "import matplotlib.pyplot as plt"
   ]
  },
  {
   "cell_type": "code",
   "execution_count": 82,
   "metadata": {},
   "outputs": [],
   "source": [
    "train_data = pd.read_csv('train_dataset.csv')\n",
    "test_data = pd.read_csv('test_dataset.csv')\n",
    "x = train_data[['a', 'b']].values\n",
    "y = train_data['y'].values\n",
    "x_test = test_data[['a', 'b']].values\n",
    "y_test = test_data['y'].values"
   ]
  },
  {
   "cell_type": "code",
   "execution_count": 83,
   "metadata": {},
   "outputs": [],
   "source": [
    "# Hypothesis structure(Linear Representation) y = theta0 + (theta1*x)\n",
    "def hypothesis(theta_coeff, x):\n",
    "    \"\"\"\n",
    "    theta_coeff(array): coefficients of function (1 x num_of_coeff)\n",
    "    x: input data/variable (num_of_samples x 1)\n",
    "    \n",
    "    Returns:\n",
    "    Predicted value for each example-row in inputs (1 x num_of_inputs)\n",
    "    \"\"\"\n",
    "    return x.dot(theta_coeff)"
   ]
  },
  {
   "cell_type": "code",
   "execution_count": 84,
   "metadata": {},
   "outputs": [],
   "source": [
    "def cost_function_mse(theta_coeff, x, y):\n",
    "    \"\"\"\n",
    "    theta_coeff(array): coefficients of function (1 x num_of_coeff)\n",
    "    x: input data/variable (num_of_samples x 1)\n",
    "    y: output data/variable (num_of_samples x 1)\n",
    "    \n",
    "    Returns:\n",
    "    Computes cost of using theta_coeff as coefficients for Linear Representation wrt to training data\n",
    "    \"\"\"\n",
    "    predicted_y = hypothesis(theta_coeff, x)\n",
    "    return np.sum((predicted_y - y)**2) / (2*x.shape[0])"
   ]
  },
  {
   "cell_type": "code",
   "execution_count": 85,
   "metadata": {},
   "outputs": [],
   "source": [
    "def compute_gradient(theta_coeff, x, y):\n",
    "    \"\"\"\n",
    "    theta_coeff(array): coefficients of function (1 x num_of_coeff)\n",
    "    x: input data/variable (num_of_samples x 1)\n",
    "    y: output data/variable (num_of_samples x 1)\n",
    "    \n",
    "    Returns:\n",
    "    Array of computed gradients for each of the coefficients (1 x num_of_coefficients)\n",
    "    \"\"\"\n",
    "    predicted_y = hypothesis(theta_coeff, x)\n",
    "    # coeff_gradients = np.sum(((predicted_y - y)**2) * x.T, axis=1) / (x.shape[0])\n",
    "    coeff_gradients = np.sum((predicted_y - y) * x.T, axis=1) / (x.shape[0])\n",
    "    return coeff_gradients"
   ]
  },
  {
   "cell_type": "code",
   "execution_count": 86,
   "metadata": {},
   "outputs": [],
   "source": [
    "def stochastic_gradient_descent(x, y, iterations, learning_rate, avg_cost_batch_size):\n",
    "    \"\"\"\n",
    "    x: input data/variable (num_of_samples x 1)\n",
    "    y: output data/variable (num_of_samples x 1)\n",
    "    iterations(int): number of iterations/epochs\n",
    "    learning_rate(int): alpha or learning rate which controls the descent\n",
    "    \n",
    "    Returns:\n",
    "    theta_coeff(array): Best set of coefficients for the linear model (1 x num_of_coefficients)\n",
    "    cost_history(array): Cost history wrt to coefficients computed while performing the descent\n",
    "    \"\"\"\n",
    "    # Container to cost history as the descent progresses\n",
    "    cost_history = []\n",
    "    \n",
    "    # Initialize coefficients with random values\n",
    "    theta_coeff = np.array([0] * x.shape[1])\n",
    "    \n",
    "    # Shuffle the training examples\n",
    "    # Shuffling ensure that each data point creates an \"independent\" change on the model, without being biased by the same points before them\n",
    "    # \"Shuffling mini-batches makes the gradients more variable, which can help convergence because it increases the likelihood of hitting a good direction\"\n",
    "    shuffled_indices = np.arange(x.shape[0])\n",
    "    np.random.shuffle(shuffled_indices)\n",
    "    x = x[shuffled_indices]\n",
    "    y = y[shuffled_indices]\n",
    "    \n",
    "    for iteration in range(iterations):\n",
    "        batch_cost_container = []\n",
    "        for training_example_idx, (training_example_x, training_example_y) in enumerate(zip(x,y)):\n",
    "            # Predict -> compute cost -> compute gradient ... wrt to each example\n",
    "            example_x = training_example_x.reshape([-1, x.shape[1]])\n",
    "            coeff_gradients = compute_gradient(theta_coeff, example_x, training_example_y)\n",
    "            # Alter old theta_coeff using movement suggested by new coeff_gradients\n",
    "            theta_coeff = theta_coeff - (learning_rate * coeff_gradients)\n",
    "            # Compute the cost of using theta_coeff as coefficients of linear function\n",
    "            cost = cost_function_mse(theta_coeff, x, y)\n",
    "            batch_cost_container.append(cost)\n",
    "            # Append the cost to cost_history by averaging the accumulated costs in batch_cost_container\n",
    "            if len(batch_cost_container) % avg_cost_batch_size == 0:\n",
    "                cost_history.append(np.mean(batch_cost_container))\n",
    "                batch_cost_container = []\n",
    "    return theta_coeff, cost_history "
   ]
  },
  {
   "cell_type": "code",
   "execution_count": 87,
   "metadata": {},
   "outputs": [],
   "source": [
    "## Prepare data\n",
    "# Learning rate\n",
    "alpha = 0.0001\n",
    "# Bias variable \n",
    "bias_variable = np.ones(len(x))\n",
    "# Plug input along with bias_variable\n",
    "x_train = np.column_stack([bias_variable, x])"
   ]
  },
  {
   "cell_type": "code",
   "execution_count": 88,
   "metadata": {},
   "outputs": [],
   "source": [
    "best_theta_coeff, cost_history = stochastic_gradient_descent(x_train, y, 150, alpha, 10)"
   ]
  },
  {
   "cell_type": "code",
   "execution_count": 89,
   "metadata": {},
   "outputs": [
    {
     "data": {
      "text/plain": [
       "217.235264823553"
      ]
     },
     "execution_count": 89,
     "metadata": {},
     "output_type": "execute_result"
    }
   ],
   "source": [
    "cost_history[-1]"
   ]
  },
  {
   "cell_type": "code",
   "execution_count": 90,
   "metadata": {},
   "outputs": [
    {
     "data": {
      "text/plain": [
       "[<matplotlib.lines.Line2D at 0x1ebcca30048>]"
      ]
     },
     "execution_count": 90,
     "metadata": {},
     "output_type": "execute_result"
    },
    {
     "data": {
      "image/png": "[encoded data removed]",
      "text/plain": [
       "<Figure size 432x288 with 1 Axes>"
      ]
     },
     "metadata": {
      "needs_background": "light"
     },
     "output_type": "display_data"
    }
   ],
   "source": [
    "plt.plot(cost_history)"
   ]
  },
  {
   "cell_type": "markdown",
   "metadata": {},
   "source": [
    "#### Model Evaluation"
   ]
  },
  {
   "cell_type": "code",
   "execution_count": 91,
   "metadata": {},
   "outputs": [],
   "source": [
    "def get_predictions(theta_coeff, x_input):\n",
    "    # Bias variable \n",
    "    bias_variable = np.ones(len(x_input))\n",
    "    # Plug input along with bias_variable\n",
    "    new_x_input = np.column_stack([bias_variable, x_input])\n",
    "    # Compute output values with new coefficients\n",
    "    preds = hypothesis(theta_coeff, new_x_input)\n",
    "    return preds"
   ]
  },
  {
   "cell_type": "code",
   "execution_count": 92,
   "metadata": {},
   "outputs": [],
   "source": [
    "# RMSE\n",
    "def rmse(y, y_pred):\n",
    "    rmse = np.sqrt(np.sum((y - y_pred)**2) / len(y))\n",
    "    return rmse"
   ]
  },
  {
   "cell_type": "code",
   "execution_count": 93,
   "metadata": {},
   "outputs": [],
   "source": [
    "# R2 Score\n",
    "# How much(%) of the total variation in y is explained by variation in x(fitted line)\n",
    "def r2_score(y, y_pred):  \n",
    "    mean_y = np.mean(y)\n",
    "    SE_total_variation = np.sum((y - mean_y)**2) # Unexplained max possible variation in y wrt->Mean\n",
    "    SE_line_variation = np.sum((y - y_pred)**2) # Unexplained variation in y wrt -> fitted line\n",
    "    r2 = 1 - (SE_line_variation / SE_total_variation) # Expalined = 1 - Unexplained\n",
    "    return r2"
   ]
  },
  {
   "cell_type": "markdown",
   "metadata": {},
   "source": [
    "Training set evaluation"
   ]
  },
  {
   "cell_type": "code",
   "execution_count": 94,
   "metadata": {},
   "outputs": [],
   "source": [
    "y_pred_train = get_predictions(best_theta_coeff, x)"
   ]
  },
  {
   "cell_type": "code",
   "execution_count": 95,
   "metadata": {},
   "outputs": [
    {
     "name": "stdout",
     "output_type": "stream",
     "text": [
      "RMSE = 20.844132008437157\n",
      "R2_score = 0.9696194625318099\n"
     ]
    }
   ],
   "source": [
    "print(f\"RMSE = {rmse(y, y_pred_train)}\")\n",
    "print(f\"R2_score = {r2_score(y, y_pred_train)}\")"
   ]
  },
  {
   "cell_type": "markdown",
   "metadata": {},
   "source": [
    "Testing set evaluation"
   ]
  },
  {
   "cell_type": "code",
   "execution_count": 96,
   "metadata": {},
   "outputs": [],
   "source": [
    "y_pred_test = get_predictions(best_theta_coeff, x_test)"
   ]
  },
  {
   "cell_type": "code",
   "execution_count": 97,
   "metadata": {},
   "outputs": [
    {
     "name": "stdout",
     "output_type": "stream",
     "text": [
      "RMSE = 18.833820742072493\n",
      "R2_score = 0.9737485754602653\n"
     ]
    }
   ],
   "source": [
    "print(f\"RMSE = {rmse(test_data['y'].values, y_pred_test)}\")\n",
    "print(f\"R2_score = {r2_score(test_data['y'].values, y_pred_test)}\")"
   ]
  },
  {
   "cell_type": "code",
   "execution_count": null,
   "metadata": {},
   "outputs": [],
   "source": []
  }
 ],
 "metadata": {
  "kernelspec": {
   "display_name": "Python 3",
   "language": "python",
   "name": "python3"
  },
  "language_info": {
   "codemirror_mode": {
    "name": "ipython",
    "version": 3
   },
   "file_extension": ".py",
   "mimetype": "text/x-python",
   "name": "python",
   "nbconvert_exporter": "python",
   "pygments_lexer": "ipython3",
   "version": "3.7.3"
  }
 },
 "nbformat": 4,
 "nbformat_minor": 4
}
