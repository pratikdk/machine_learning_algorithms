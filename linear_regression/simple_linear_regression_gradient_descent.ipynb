{
 "cells": [
  {
   "cell_type": "markdown",
   "metadata": {},
   "source": [
    "## Simple Linear Regression using Gradient Descent"
   ]
  },
  {
   "cell_type": "code",
   "execution_count": 153,
   "metadata": {},
   "outputs": [],
   "source": [
    "%matplotlib inline\n",
    "import numpy as np\n",
    "import pandas as pd\n",
    "import matplotlib.pyplot as plt\n",
    "from mpl_toolkits.mplot3d import Axes3D"
   ]
  },
  {
   "cell_type": "code",
   "execution_count": 154,
   "metadata": {},
   "outputs": [],
   "source": [
    "train_data = pd.read_csv('train_dataset.csv')\n",
    "test_data = pd.read_csv('test_dataset.csv')\n",
    "x = train_data['a'].values\n",
    "y = train_data['y'].values\n",
    "x_test = test_data['a'].values\n",
    "y_test = test_data['y'].values"
   ]
  },
  {
   "cell_type": "code",
   "execution_count": 155,
   "metadata": {},
   "outputs": [],
   "source": [
    "# def plot_3d_figure(col_a, col_b, col_y):\n",
    "#     fig = plt.figure()\n",
    "#     ax = Axes3D(fig)\n",
    "#     ax.scatter(col_a, col_b, col_y, color='#ef1234', s=10)\n",
    "#     plt.show()"
   ]
  },
  {
   "cell_type": "code",
   "execution_count": 156,
   "metadata": {},
   "outputs": [],
   "source": [
    "# plot_3d_figure(train_data.a, train_data.b, train_data.y)"
   ]
  },
  {
   "cell_type": "code",
   "execution_count": 157,
   "metadata": {},
   "outputs": [
    {
     "data": {
      "text/plain": [
       "<matplotlib.axes._subplots.AxesSubplot at 0x20cea181208>"
      ]
     },
     "execution_count": 157,
     "metadata": {},
     "output_type": "execute_result"
    },
    {
     "data": {
      "image/png": "[encoded data removed]",
      "text/plain": [
       "<Figure size 432x288 with 1 Axes>"
      ]
     },
     "metadata": {
      "needs_background": "light"
     },
     "output_type": "display_data"
    }
   ],
   "source": [
    "train_data.plot(kind='scatter', x='a', y='y')"
   ]
  },
  {
   "cell_type": "markdown",
   "metadata": {},
   "source": [
    "Y = $β^{T}$X"
   ]
  },
  {
   "cell_type": "code",
   "execution_count": 158,
   "metadata": {},
   "outputs": [],
   "source": [
    "# Hypothesis structure(Linear Representation) y = theta0 + (theta1*x)\n",
    "def hypothesis(theta_coeff, x):\n",
    "    \"\"\"\n",
    "    theta_coeff(array): coefficients of function (1 x num_of_coeff)\n",
    "    x: input data/variable (num_of_samples x 1)\n",
    "    \n",
    "    Returns:\n",
    "    Predicted value for each example-row in inputs (1 x num_of_inputs)\n",
    "    \"\"\"\n",
    "    return x.dot(theta_coeff)"
   ]
  },
  {
   "cell_type": "code",
   "execution_count": 159,
   "metadata": {},
   "outputs": [],
   "source": [
    "def cost_function_mse(theta_coeff, x, y):\n",
    "    \"\"\"\n",
    "    theta_coeff(array): coefficients of function (1 x num_of_coeff)\n",
    "    x: input data/variable (num_of_samples x 1)\n",
    "    y: output data/variable (num_of_samples x 1)\n",
    "    \n",
    "    Returns:\n",
    "    Computes cost of using theta_coeff as coefficients for Linear Representation wrt to training data\n",
    "    \"\"\"\n",
    "    predicted_y = hypothesis(theta_coeff, x)\n",
    "    return np.sum((predicted_y - y)**2) / (2*x.shape[0])"
   ]
  },
  {
   "cell_type": "code",
   "execution_count": 164,
   "metadata": {},
   "outputs": [],
   "source": [
    "def compute_gradient(theta_coeff, x, y):\n",
    "    \"\"\"\n",
    "    theta_coeff(array): coefficients of function (1 x num_of_coeff)\n",
    "    x: input data/variable (num_of_samples x 1)\n",
    "    y: output data/variable (num_of_samples x 1)\n",
    "    \n",
    "    Returns:\n",
    "    Array of computed gradients for each of the coefficients (1 x num_of_coefficients)\n",
    "    \"\"\"\n",
    "    predicted_y = hypothesis(theta_coeff, x)\n",
    "    # coeff_gradients = np.sum(((predicted_y - y)**2) * x.T, axis=1) / (x.shape[0])\n",
    "    coeff_gradients = np.sum((predicted_y - y) * x.T, axis=1) / (x.shape[0])\n",
    "    return coeff_gradients"
   ]
  },
  {
   "cell_type": "code",
   "execution_count": 165,
   "metadata": {},
   "outputs": [],
   "source": [
    "def gradient_descent(x, y, iterations, learning_rate):\n",
    "    \"\"\"\n",
    "    x: input data/variable (num_of_samples x 1)\n",
    "    y: output data/variable (num_of_samples x 1)\n",
    "    iterations(int): number of iterations/epochs\n",
    "    learning_rate(int): alpha or learning rate which controls the descent\n",
    "    \n",
    "    Returns:\n",
    "    theta_coeff(array): Best set of coefficients for the linear model (1 x num_of_coefficients)\n",
    "    cost_history(array): Cost history wrt to coefficients computed while performing the descent\n",
    "    \"\"\"\n",
    "    # Container to cost history as the descent progresses\n",
    "    cost_history = []\n",
    "    \n",
    "    # Initialize coefficients with random values\n",
    "    theta_coeff = np.array([0] * x.shape[1])\n",
    "    \n",
    "    for iteration in range(iterations):\n",
    "        # Compute gradient wrt. old theta_coeff\n",
    "        coeff_gradients = compute_gradient(theta_coeff, x, y)\n",
    "        # Alter old theta_coeff using movement suggested by new coeff_gradients\n",
    "        theta_coeff = theta_coeff - (learning_rate * coeff_gradients)\n",
    "        # Compute the cost of using theta_coeff as coefficients of linear function\n",
    "        cost = cost_function_mse(theta_coeff, x, y)\n",
    "        cost_history.append(cost) # Store the new cost\n",
    "    \n",
    "    return theta_coeff, cost_history"
   ]
  },
  {
   "cell_type": "code",
   "execution_count": 176,
   "metadata": {},
   "outputs": [],
   "source": [
    "## Prepare data\n",
    "# Learning rate\n",
    "alpha = 0.0001\n",
    "# Bias variable \n",
    "bias_variable = np.ones(len(x))\n",
    "# Plug input along with bias_variable\n",
    "x_train = np.column_stack([bias_variable, x])"
   ]
  },
  {
   "cell_type": "code",
   "execution_count": 183,
   "metadata": {},
   "outputs": [],
   "source": [
    "best_theta_coeff, cost_history = gradient_descent(x_train, y, 25000, alpha)"
   ]
  },
  {
   "cell_type": "code",
   "execution_count": 184,
   "metadata": {},
   "outputs": [
    {
     "data": {
      "text/plain": [
       "3662.5707445787243"
      ]
     },
     "execution_count": 184,
     "metadata": {},
     "output_type": "execute_result"
    }
   ],
   "source": [
    "cost_history[-1]"
   ]
  },
  {
   "cell_type": "code",
   "execution_count": 185,
   "metadata": {},
   "outputs": [
    {
     "data": {
      "text/plain": [
       "[<matplotlib.lines.Line2D at 0x20cecdeaf98>]"
      ]
     },
     "execution_count": 185,
     "metadata": {},
     "output_type": "execute_result"
    },
    {
     "data": {
      "image/png": "[encoded data removed]",
      "text/plain": [
       "<Figure size 432x288 with 1 Axes>"
      ]
     },
     "metadata": {
      "needs_background": "light"
     },
     "output_type": "display_data"
    }
   ],
   "source": [
    "plt.plot(cost_history)"
   ]
  },
  {
   "cell_type": "markdown",
   "metadata": {},
   "source": [
    "#### Model Evaluation"
   ]
  },
  {
   "cell_type": "code",
   "execution_count": 193,
   "metadata": {},
   "outputs": [],
   "source": [
    "def get_predictions(theta_coeff, x_input):\n",
    "    # Bias variable \n",
    "    bias_variable = np.ones(len(x_input))\n",
    "    # Plug input along with bias_variable\n",
    "    new_x_input = np.column_stack([bias_variable, x_input])\n",
    "    # Compute output values with new coefficients\n",
    "    preds = hypothesis(theta_coeff, new_x_input)\n",
    "    return preds"
   ]
  },
  {
   "cell_type": "code",
   "execution_count": 187,
   "metadata": {},
   "outputs": [],
   "source": [
    "# RMSE\n",
    "def rmse(y, y_pred):\n",
    "    rmse = np.sqrt(np.sum((y - y_pred)**2) / len(y))\n",
    "    return rmse"
   ]
  },
  {
   "cell_type": "code",
   "execution_count": 188,
   "metadata": {},
   "outputs": [],
   "source": [
    "# R2 Score\n",
    "# How much(%) of the total variation in y is explained by variation in x(fitted line)\n",
    "def r2_score(y, y_pred):  \n",
    "    mean_y = np.mean(y)\n",
    "    SE_total_variation = np.sum((y - mean_y)**2) # Unexplained max possible variation in y wrt->Mean\n",
    "    SE_line_variation = np.sum((y - y_pred)**2) # Unexplained variation in y wrt -> fitted line\n",
    "    r2 = 1 - (SE_line_variation / SE_total_variation) # Expalined = 1 - Unexplained\n",
    "    return r2"
   ]
  },
  {
   "cell_type": "markdown",
   "metadata": {},
   "source": [
    "Training set evaluation"
   ]
  },
  {
   "cell_type": "code",
   "execution_count": 194,
   "metadata": {},
   "outputs": [],
   "source": [
    "y_pred_train = get_predictions(best_theta_coeff, x)"
   ]
  },
  {
   "cell_type": "code",
   "execution_count": 195,
   "metadata": {},
   "outputs": [
    {
     "name": "stdout",
     "output_type": "stream",
     "text": [
      "RMSE = 85.58704042761059\n",
      "R2_score = 0.48779496811963996\n"
     ]
    }
   ],
   "source": [
    "print(f\"RMSE = {rmse(y, y_pred_train)}\")\n",
    "print(f\"R2_score = {r2_score(y, y_pred_train)}\")"
   ]
  },
  {
   "cell_type": "markdown",
   "metadata": {},
   "source": [
    "Testing set evaluation"
   ]
  },
  {
   "cell_type": "code",
   "execution_count": 197,
   "metadata": {},
   "outputs": [],
   "source": [
    "y_pred_test = get_predictions(best_theta_coeff, x_test)"
   ]
  },
  {
   "cell_type": "code",
   "execution_count": 198,
   "metadata": {},
   "outputs": [
    {
     "name": "stdout",
     "output_type": "stream",
     "text": [
      "RMSE = 67.88406605409448\n",
      "R2_score = 0.6589549855994737\n"
     ]
    }
   ],
   "source": [
    "print(f\"RMSE = {rmse(test_data['y'].values, y_pred_test)}\")\n",
    "print(f\"R2_score = {r2_score(test_data['y'].values, y_pred_test)}\")"
   ]
  },
  {
   "cell_type": "code",
   "execution_count": null,
   "metadata": {},
   "outputs": [],
   "source": []
  }
 ],
 "metadata": {
  "kernelspec": {
   "display_name": "Python 3",
   "language": "python",
   "name": "python3"
  },
  "language_info": {
   "codemirror_mode": {
    "name": "ipython",
    "version": 3
   },
   "file_extension": ".py",
   "mimetype": "text/x-python",
   "name": "python",
   "nbconvert_exporter": "python",
   "pygments_lexer": "ipython3",
   "version": "3.7.3"
  }
 },
 "nbformat": 4,
 "nbformat_minor": 4
}
