{
 "cells": [
  {
   "cell_type": "markdown",
   "metadata": {},
   "source": [
    "## Simple Linear Regression using Ordinary Least Squares[OLS] with Sci-kit"
   ]
  },
  {
   "cell_type": "code",
   "execution_count": 18,
   "metadata": {},
   "outputs": [],
   "source": [
    "import numpy as np\n",
    "import pandas as pd\n",
    "from sklearn.linear_model import LinearRegression\n",
    "from sklearn.metrics import mean_squared_error"
   ]
  },
  {
   "cell_type": "code",
   "execution_count": 19,
   "metadata": {},
   "outputs": [],
   "source": [
    "train_data = pd.read_csv('train_dataset.csv')\n",
    "test_data = pd.read_csv('test_dataset.csv')"
   ]
  },
  {
   "cell_type": "code",
   "execution_count": 20,
   "metadata": {},
   "outputs": [],
   "source": [
    "train_data = train_data[['a', 'y']]\n",
    "test_data = test_data[['a', 'y']]\n",
    "x = train_data['a'].values\n",
    "y = train_data['y'].values\n",
    "x_test = test_data['a'].values\n",
    "y_test = test_data['y'].values\n",
    "# Reshape input; Cannot use Rank 1 matrix in scikit learn \n",
    "x = x.reshape((-1, 1))\n",
    "x_test = x_test.reshape((-1, 1))"
   ]
  },
  {
   "cell_type": "code",
   "execution_count": 21,
   "metadata": {},
   "outputs": [],
   "source": [
    "# Initialize Linear model\n",
    "reg = LinearRegression()\n",
    "# Fit and approximate the function/representation which models training data\n",
    "reg = reg.fit(x, y)"
   ]
  },
  {
   "cell_type": "markdown",
   "metadata": {},
   "source": [
    "#### Model Evaluation"
   ]
  },
  {
   "cell_type": "code",
   "execution_count": 22,
   "metadata": {},
   "outputs": [
    {
     "name": "stdout",
     "output_type": "stream",
     "text": [
      "RMSE = 85.30743669574939\n",
      "R2_score = 0.49113613997300476\n"
     ]
    }
   ],
   "source": [
    "#Training set evaluation\n",
    "print(\"Training-set Evaluation:\")\n",
    "y_pred_train = reg.predict(x)\n",
    "train_mse = mean_squared_error(y, y_pred_train) # MSE\n",
    "train_rmse = np.sqrt(train_mse) # RMSE\n",
    "train_r2_score = reg.score(x, y) # R2 score\n",
    "print(f\"RMSE = {train_rmse}\")\n",
    "print(f\"R2_score = {train_r2_score}\")"
   ]
  },
  {
   "cell_type": "code",
   "execution_count": 23,
   "metadata": {},
   "outputs": [
    {
     "name": "stdout",
     "output_type": "stream",
     "text": [
      "RMSE = 66.68498018684667\n",
      "R2_score = 0.6708968316749415\n"
     ]
    }
   ],
   "source": [
    "#Testing set evaluation\n",
    "print(\"Testing-set Evaluation:\")\n",
    "y_pred_test = reg.predict(x_test)\n",
    "test_mse = mean_squared_error(y_test, y_pred_test)\n",
    "test_rmse = np.sqrt(test_mse)\n",
    "test_r2_score = reg.score(x_test, y_test)\n",
    "print(f\"RMSE = {test_rmse}\")\n",
    "print(f\"R2_score = {test_r2_score}\")"
   ]
  },
  {
   "cell_type": "code",
   "execution_count": null,
   "metadata": {},
   "outputs": [],
   "source": []
  }
 ],
 "metadata": {
  "kernelspec": {
   "display_name": "Python 3",
   "language": "python",
   "name": "python3"
  },
  "language_info": {
   "codemirror_mode": {
    "name": "ipython",
    "version": 3
   },
   "file_extension": ".py",
   "mimetype": "text/x-python",
   "name": "python",
   "nbconvert_exporter": "python",
   "pygments_lexer": "ipython3",
   "version": "3.7.3"
  }
 },
 "nbformat": 4,
 "nbformat_minor": 4
}
