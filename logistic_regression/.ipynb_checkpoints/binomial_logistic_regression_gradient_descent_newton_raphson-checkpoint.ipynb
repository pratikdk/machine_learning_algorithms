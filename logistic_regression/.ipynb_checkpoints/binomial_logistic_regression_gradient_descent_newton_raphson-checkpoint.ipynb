{
 "cells": [
  {
   "cell_type": "markdown",
   "metadata": {},
   "source": [
    "## Binomial Logistic Regression using Newton Raphson"
   ]
  },
  {
   "cell_type": "code",
   "execution_count": 151,
   "metadata": {},
   "outputs": [],
   "source": [
    "import numpy as np\n",
    "import pandas as pd\n",
    "import matplotlib.pyplot as plt\n",
    "from sklearn.model_selection import train_test_split"
   ]
  },
  {
   "cell_type": "markdown",
   "metadata": {},
   "source": [
    "#### Function Definitions"
   ]
  },
  {
   "cell_type": "code",
   "execution_count": 152,
   "metadata": {},
   "outputs": [],
   "source": [
    "def compute_log_likelihood(y, est_prob): # est_prob: Estimated probability # Includes conversion from probability to log(odds)\n",
    "    logit = ((y*est_prob) + ((1-y)*(1-est_prob)))\n",
    "    return np.prod(np.where(logit != 0, logit, 1))"
   ]
  },
  {
   "cell_type": "code",
   "execution_count": 153,
   "metadata": {},
   "outputs": [],
   "source": [
    "def net_input(beta, x):\n",
    "    # compute the weighted sum of inputs\n",
    "    return x.dot(beta)"
   ]
  },
  {
   "cell_type": "code",
   "execution_count": 154,
   "metadata": {},
   "outputs": [],
   "source": [
    "def log_odds_to_prob(x): \n",
    "    # Conversion from log(odds) to probability\n",
    "    return np.divide(np.exp(x), (1 + np.exp(x)))"
   ]
  },
  {
   "cell_type": "code",
   "execution_count": 155,
   "metadata": {},
   "outputs": [],
   "source": [
    "def compute_probabilities(beta, x): \n",
    "    # Calculate the value of est_probs (predictions on each observation) given x(input) and estimated betas\n",
    "    return log_odds_to_prob(net_input(beta, x))"
   ]
  },
  {
   "cell_type": "code",
   "execution_count": 160,
   "metadata": {},
   "outputs": [],
   "source": [
    "def logistic(x_unbiased, y, learningrate, dif):\n",
    "    # Bias variable \n",
    "    bias_variable = np.ones(len(x_unbiased))\n",
    "    # Plug input along with bias_variable\n",
    "    x = np.column_stack([bias_variable, x_unbiased])\n",
    "    # Initialize parameterss/coefficients\n",
    "    beta = np.array([0] * x.shape[1])\n",
    "    # Container to store log likelihoods and derivatives\n",
    "    log_likelihoods = []\n",
    "    derivatives = []\n",
    "    diff = 10000 # Any high value\n",
    "    while (diff > dif):\n",
    "        est_probs = compute_probabilities(beta, x) # Predict with new value of beta\n",
    "        W_matrix = np.diag((est_probs) * (1-est_probs)) # A sparse diagonal matrix\n",
    "        # Assume x_new to have dimensions (n x f), whereas y, pi to have dimensions (n x 1)\n",
    "        # solve(t(x_new)%*%W : factor in pi with x_new (x_new.T * (identity_matrix * (pi[i]*(1-pi[i]))) : outputs (f x n)\n",
    "        # (solve(t(x_new)%*%W%*%as.matrix(x_new))): factor in each feature of our computed matrix(x_new factored with estimated probability) with each feature of orginal input matrix : outputs (f x f)\n",
    "        # (t(x_new)%*%(y - pi)) : Factor in error with each of the feature column with respect to each example : outputs (f x 1)\n",
    "        derivative = np.dot(np.linalg.inv(np.dot(np.dot(x.T, W_matrix), x)), np.dot(x.T, (y - est_probs))) # This computation is equivalent to computing derivative w.r.t to each feature, more about (residuals x feature level transformation)\n",
    "        beta = beta + derivative # We add, because we are doing gradient ascent(to maximize the likelihood)\n",
    "        diff = np.sum(derivative.flatten()**2)\n",
    "        log_likelihood = compute_log_likelihood(y, est_probs)\n",
    "        # Append Log likelihood and derivative into the respective container\n",
    "        log_likelihoods.append(log_likelihood)\n",
    "        derivatives.append(derivative)\n",
    "    return beta, log_likelihoods, derivatives"
   ]
  },
  {
   "cell_type": "code",
   "execution_count": 161,
   "metadata": {},
   "outputs": [],
   "source": [
    "x = np.arange(1, 11)\n",
    "y = np.array([0, 0, 0, 0, 1, 0, 1, 0, 1, 1])"
   ]
  },
  {
   "cell_type": "code",
   "execution_count": 162,
   "metadata": {},
   "outputs": [
    {
     "data": {
      "text/plain": [
       "((10,), (10,))"
      ]
     },
     "execution_count": 162,
     "metadata": {},
     "output_type": "execute_result"
    }
   ],
   "source": [
    "x.shape, y.shape"
   ]
  },
  {
   "cell_type": "code",
   "execution_count": 163,
   "metadata": {},
   "outputs": [],
   "source": [
    "beta, log_likelihoods, derivatives = logistic(x, y, 0.01, 0.000000001)"
   ]
  },
  {
   "cell_type": "code",
   "execution_count": 164,
   "metadata": {},
   "outputs": [
    {
     "data": {
      "text/plain": [
       "0.013431911499350548"
      ]
     },
     "execution_count": 164,
     "metadata": {},
     "output_type": "execute_result"
    }
   ],
   "source": [
    "log_likelihoods[-1]"
   ]
  },
  {
   "cell_type": "code",
   "execution_count": 165,
   "metadata": {},
   "outputs": [
    {
     "data": {
      "text/plain": [
       "[<matplotlib.lines.Line2D at 0x1f2febd0ac8>]"
      ]
     },
     "execution_count": 165,
     "metadata": {},
     "output_type": "execute_result"
    },
    {
     "data": {
      "image/png": "[encoded data removed]",
      "text/plain": [
       "<Figure size 432x288 with 1 Axes>"
      ]
     },
     "metadata": {
      "needs_background": "light"
     },
     "output_type": "display_data"
    }
   ],
   "source": [
    "plt.plot(log_likelihoods)"
   ]
  },
  {
   "cell_type": "code",
   "execution_count": null,
   "metadata": {},
   "outputs": [],
   "source": []
  }
 ],
 "metadata": {
  "kernelspec": {
   "display_name": "Python 3",
   "language": "python",
   "name": "python3"
  },
  "language_info": {
   "codemirror_mode": {
    "name": "ipython",
    "version": 3
   },
   "file_extension": ".py",
   "mimetype": "text/x-python",
   "name": "python",
   "nbconvert_exporter": "python",
   "pygments_lexer": "ipython3",
   "version": "3.7.3"
  }
 },
 "nbformat": 4,
 "nbformat_minor": 4
}
