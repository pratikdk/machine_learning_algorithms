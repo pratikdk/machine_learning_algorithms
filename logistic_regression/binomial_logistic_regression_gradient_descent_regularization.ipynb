{
 "cells": [
  {
   "cell_type": "markdown",
   "metadata": {},
   "source": [
    "## Binomial Logistic Regression using Gradient Descent with L2 Regularization (Python)"
   ]
  },
  {
   "cell_type": "code",
   "execution_count": 69,
   "metadata": {},
   "outputs": [],
   "source": [
    "import numpy as np\n",
    "import pandas as pd\n",
    "import matplotlib.pyplot as plt\n",
    "from sklearn.model_selection import train_test_split"
   ]
  },
  {
   "cell_type": "code",
   "execution_count": 70,
   "metadata": {},
   "outputs": [],
   "source": [
    "train_data = pd.read_csv('train_dataset.csv')\n",
    "test_data = pd.read_csv('test_dataset.csv')\n",
    "# Seperate input from output\n",
    "x_train = train_data[['x1', 'x2']].values\n",
    "y_train = train_data['y'].values\n",
    "x_test = test_data[['x1', 'x2']].values\n",
    "y_test = test_data['y'].values"
   ]
  },
  {
   "cell_type": "code",
   "execution_count": 71,
   "metadata": {},
   "outputs": [
    {
     "data": {
      "text/plain": [
       "((80, 2), (20, 2))"
      ]
     },
     "execution_count": 71,
     "metadata": {},
     "output_type": "execute_result"
    }
   ],
   "source": [
    "x_train.shape, x_test.shape"
   ]
  },
  {
   "cell_type": "code",
   "execution_count": 72,
   "metadata": {},
   "outputs": [],
   "source": [
    "def normalize(x): # Rescale\n",
    "    x_mins = np.min(x, axis=0)\n",
    "    x_maxs = np.max(x, axis=0)\n",
    "    min_max_range = x_maxs - x_mins\n",
    "    norm_x = np.divide((x - x_mins), min_max_range)\n",
    "    return norm_x"
   ]
  },
  {
   "cell_type": "code",
   "execution_count": 73,
   "metadata": {},
   "outputs": [],
   "source": [
    "def standardized(x): # Normalize with mean 0 and std-dev of 1, also called z-score \n",
    "    x_mean = np.mean(x, axis=0)\n",
    "    x_std = np.std(x, axis=0)\n",
    "    stdz_x = np.divide((x - x_mean), x_std)\n",
    "    return stdz_x"
   ]
  },
  {
   "cell_type": "code",
   "execution_count": 74,
   "metadata": {},
   "outputs": [],
   "source": [
    "# Rescaled and standarized input\n",
    "x_train_rescaled = normalize(x_train)\n",
    "x_train_standarized = standardized(x_train)"
   ]
  },
  {
   "cell_type": "markdown",
   "metadata": {},
   "source": [
    "#### Function definitions"
   ]
  },
  {
   "cell_type": "code",
   "execution_count": 75,
   "metadata": {},
   "outputs": [],
   "source": [
    "def net_input(theta_coeff, x):\n",
    "    # compute the weighted sum of inputs\n",
    "    return x.dot(theta_coeff)"
   ]
  },
  {
   "cell_type": "code",
   "execution_count": 76,
   "metadata": {},
   "outputs": [],
   "source": [
    "def sigmoid(x):\n",
    "    # Activation function used to map input between 0 and 1\n",
    "    return np.divide(1, (1 + np.exp(-x)))"
   ]
  },
  {
   "cell_type": "code",
   "execution_count": 77,
   "metadata": {},
   "outputs": [],
   "source": [
    "def probability(theta_coeff, x):\n",
    "    # Returns the probability for each of the weighted inputs wrt to sigmoidal function\n",
    "    return sigmoid(net_input(theta_coeff, x))"
   ]
  },
  {
   "cell_type": "code",
   "execution_count": 78,
   "metadata": {},
   "outputs": [],
   "source": [
    "def cost_function(theta_coeff, x, y, regularization_rate):\n",
    "    # Computes the cost/error of using theta_coeff as coefficients wrt to training data\n",
    "    return (-(1/x.shape[0]) * np.sum((y * np.log(probability(theta_coeff, x))) \n",
    "                                    + ((1-y) * np.log(1 - probability(theta_coeff, x))))) + ((regularization_rate * np.sum(np.concatenate(([0],theta_coeff[1:]))**2))/(2*x.shape[0]))"
   ]
  },
  {
   "cell_type": "code",
   "execution_count": 79,
   "metadata": {},
   "outputs": [],
   "source": [
    "def compute_gradients(theta_coeff, x, y, regularization_rate):\n",
    "    # Array of computed gradients for each of the coefficients (1 x num_of_coefficients)\n",
    "    # Factors in example wise error for parameters Eg: (example_error_n * param_j)\n",
    "    return (1/x.shape[0]) * np.dot(x.T, (probability(theta_coeff, x) - y)) + ((regularization_rate * np.concatenate(([0],theta_coeff[1:])))/x.shape[0])"
   ]
  },
  {
   "cell_type": "code",
   "execution_count": 80,
   "metadata": {},
   "outputs": [],
   "source": [
    "def gradient_descent(x, y, iterations, learning_rate, regularization_rate):\n",
    "    \"\"\"\n",
    "    Returns:\n",
    "    theta_coeff(array): Best set of coefficients for the linear model (1 x num_of_coefficients)\n",
    "    cost_history(array): Cost history wrt to coefficients computed while performing the descent\n",
    "    \"\"\"\n",
    "    # Container to store cost history as the descent progresses\n",
    "    cost_history = []\n",
    "    \n",
    "    # Initialize coefficients with random values\n",
    "    theta_coeff = np.array([0] * x.shape[1])\n",
    "    \n",
    "    print(theta_coeff)\n",
    "    for iteration in range(iterations):\n",
    "        # Compute gradient with respect to initialized theta_coeff\n",
    "        gradients = compute_gradients(theta_coeff, x, y, regularization_rate)\n",
    "        # Alter the theta_coeff(parameters) using the directional movement(descent) suggested by gradient\n",
    "        theta_coeff = theta_coeff - (learning_rate * gradients)\n",
    "        # Compute the cost of using new theta_coeff as parameters for the model\n",
    "        cost = cost_function(theta_coeff, x, y, regularization_rate)\n",
    "        cost_history.append(cost) # Store the new cost\n",
    "    return theta_coeff, cost_history"
   ]
  },
  {
   "cell_type": "code",
   "execution_count": 81,
   "metadata": {},
   "outputs": [],
   "source": [
    "## Prepare data\n",
    "# Learning rate\n",
    "alpha = 0.001\n",
    "# L2 regularization\n",
    "# Kept regularization_rate to be small, because the training and testing sets are very similar, we are already doing good job at generalizing.\n",
    "# Higher regularization_rate can be used in cases where training and testing sets differ by substantial amount, and we seek to generalize on such differing unseen data \n",
    "regularization_rate = 0.03\n",
    "# Bias variable \n",
    "bias_variable = np.ones(len(x_train))\n",
    "# Plug input along with bias_variable\n",
    "x_train_biased = np.column_stack([bias_variable, x_train])"
   ]
  },
  {
   "cell_type": "code",
   "execution_count": 82,
   "metadata": {},
   "outputs": [
    {
     "name": "stdout",
     "output_type": "stream",
     "text": [
      "[0 0 0]\n"
     ]
    }
   ],
   "source": [
    "best_theta_coeff, cost_history = gradient_descent(x_train_biased, y_train, 100000, alpha, regularization_rate)"
   ]
  },
  {
   "cell_type": "code",
   "execution_count": 83,
   "metadata": {},
   "outputs": [
    {
     "data": {
      "text/plain": [
       "0.03615274900066509"
      ]
     },
     "execution_count": 83,
     "metadata": {},
     "output_type": "execute_result"
    }
   ],
   "source": [
    "cost_history[-1]"
   ]
  },
  {
   "cell_type": "code",
   "execution_count": 84,
   "metadata": {},
   "outputs": [
    {
     "data": {
      "text/plain": [
       "[<matplotlib.lines.Line2D at 0x1b839d5b0f0>]"
      ]
     },
     "execution_count": 84,
     "metadata": {},
     "output_type": "execute_result"
    },
    {
     "data": {
      "image/png": "[encoded data removed]",
      "text/plain": [
       "<Figure size 432x288 with 1 Axes>"
      ]
     },
     "metadata": {
      "needs_background": "light"
     },
     "output_type": "display_data"
    }
   ],
   "source": [
    "plt.plot(cost_history)"
   ]
  },
  {
   "cell_type": "markdown",
   "metadata": {},
   "source": [
    "#### Model Evaluation"
   ]
  },
  {
   "cell_type": "code",
   "execution_count": 85,
   "metadata": {},
   "outputs": [],
   "source": [
    "def get_predictions(theta_coeff, x_input):\n",
    "    # Bias variable \n",
    "    bias_variable = np.ones(len(x_input))\n",
    "    # Plug input along with bias_variable\n",
    "    new_x_input = np.column_stack([bias_variable, x_input])\n",
    "    # Compute output values with new coefficients\n",
    "    preds = probability(theta_coeff, new_x_input)\n",
    "    return preds"
   ]
  },
  {
   "cell_type": "code",
   "execution_count": 86,
   "metadata": {},
   "outputs": [],
   "source": [
    "def accuracy(theta_coeff, x, y, threshold=0.5):\n",
    "    class_preds = (get_predictions(theta_coeff, x) >= 0.5).astype(int).flatten()\n",
    "    accuracy = np.mean(class_preds == y) * 100\n",
    "    return accuracy"
   ]
  },
  {
   "cell_type": "code",
   "execution_count": 87,
   "metadata": {},
   "outputs": [],
   "source": [
    "y_pred_train = get_predictions(best_theta_coeff, x_train)\n",
    "y_pred_test = get_predictions(best_theta_coeff, x_test)"
   ]
  },
  {
   "cell_type": "code",
   "execution_count": 88,
   "metadata": {},
   "outputs": [],
   "source": [
    "train_acc = accuracy(best_theta_coeff, x_train, y_train)\n",
    "test_acc = accuracy(best_theta_coeff, x_test, y_test)"
   ]
  },
  {
   "cell_type": "code",
   "execution_count": 89,
   "metadata": {},
   "outputs": [
    {
     "name": "stdout",
     "output_type": "stream",
     "text": [
      "Training accuracy = 98.75\n",
      "Testing accuracy = 100.0\n"
     ]
    }
   ],
   "source": [
    "print(f\"Training accuracy = {train_acc}\")\n",
    "print(f\"Testing accuracy = {test_acc}\")"
   ]
  },
  {
   "cell_type": "code",
   "execution_count": null,
   "metadata": {},
   "outputs": [],
   "source": []
  }
 ],
 "metadata": {
  "kernelspec": {
   "display_name": "Python 3",
   "language": "python",
   "name": "python3"
  },
  "language_info": {
   "codemirror_mode": {
    "name": "ipython",
    "version": 3
   },
   "file_extension": ".py",
   "mimetype": "text/x-python",
   "name": "python",
   "nbconvert_exporter": "python",
   "pygments_lexer": "ipython3",
   "version": "3.7.3"
  }
 },
 "nbformat": 4,
 "nbformat_minor": 4
}
