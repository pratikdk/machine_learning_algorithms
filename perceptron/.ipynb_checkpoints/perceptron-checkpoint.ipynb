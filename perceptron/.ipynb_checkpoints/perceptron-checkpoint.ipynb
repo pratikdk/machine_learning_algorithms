{
 "cells": [
  {
   "cell_type": "markdown",
   "metadata": {},
   "source": [
    "# Multi Layer Perceptron from scratch"
   ]
  },
  {
   "cell_type": "code",
   "execution_count": 1,
   "metadata": {},
   "outputs": [],
   "source": [
    "import numpy as np\n",
    "import pandas as pd"
   ]
  },
  {
   "cell_type": "code",
   "execution_count": 2,
   "metadata": {},
   "outputs": [],
   "source": [
    "# Helper method to plot neural network\n",
    "import matplotlib.pyplot as plt\n",
    "import draw_neural_network"
   ]
  },
  {
   "cell_type": "markdown",
   "metadata": {},
   "source": [
    "## Load and prepare data [Classification]"
   ]
  },
  {
   "cell_type": "code",
   "execution_count": 3,
   "metadata": {},
   "outputs": [],
   "source": [
    "clf_df = pd.read_csv(\"Iris.csv\")\n",
    "clf_df = clf_df.drop(\"Id\", axis=1)\n",
    "clf_df = clf_df.rename(columns={\"species\": \"label\"})"
   ]
  },
  {
   "cell_type": "code",
   "execution_count": 4,
   "metadata": {},
   "outputs": [
    {
     "data": {
      "text/html": [
       "<div>\n",
       "<style scoped>\n",
       "    .dataframe tbody tr th:only-of-type {\n",
       "        vertical-align: middle;\n",
       "    }\n",
       "\n",
       "    .dataframe tbody tr th {\n",
       "        vertical-align: top;\n",
       "    }\n",
       "\n",
       "    .dataframe thead th {\n",
       "        text-align: right;\n",
       "    }\n",
       "</style>\n",
       "<table border=\"1\" class=\"dataframe\">\n",
       "  <thead>\n",
       "    <tr style=\"text-align: right;\">\n",
       "      <th></th>\n",
       "      <th>sepal_length</th>\n",
       "      <th>sepal_width</th>\n",
       "      <th>petal_length</th>\n",
       "      <th>petal_width</th>\n",
       "      <th>label</th>\n",
       "    </tr>\n",
       "  </thead>\n",
       "  <tbody>\n",
       "    <tr>\n",
       "      <th>0</th>\n",
       "      <td>5.1</td>\n",
       "      <td>3.5</td>\n",
       "      <td>1.4</td>\n",
       "      <td>0.2</td>\n",
       "      <td>Iris-setosa</td>\n",
       "    </tr>\n",
       "    <tr>\n",
       "      <th>1</th>\n",
       "      <td>4.9</td>\n",
       "      <td>3.0</td>\n",
       "      <td>1.4</td>\n",
       "      <td>0.2</td>\n",
       "      <td>Iris-setosa</td>\n",
       "    </tr>\n",
       "    <tr>\n",
       "      <th>2</th>\n",
       "      <td>4.7</td>\n",
       "      <td>3.2</td>\n",
       "      <td>1.3</td>\n",
       "      <td>0.2</td>\n",
       "      <td>Iris-setosa</td>\n",
       "    </tr>\n",
       "  </tbody>\n",
       "</table>\n",
       "</div>"
      ],
      "text/plain": [
       "   sepal_length  sepal_width  petal_length  petal_width        label\n",
       "0           5.1          3.5           1.4          0.2  Iris-setosa\n",
       "1           4.9          3.0           1.4          0.2  Iris-setosa\n",
       "2           4.7          3.2           1.3          0.2  Iris-setosa"
      ]
     },
     "execution_count": 4,
     "metadata": {},
     "output_type": "execute_result"
    }
   ],
   "source": [
    "clf_df.head(3)"
   ]
  },
  {
   "cell_type": "code",
   "execution_count": 5,
   "metadata": {},
   "outputs": [],
   "source": [
    "clf_X_df = clf_df.iloc[:, :-1]\n",
    "clf_y_df = clf_df.iloc[:, -1]"
   ]
  },
  {
   "cell_type": "code",
   "execution_count": 6,
   "metadata": {},
   "outputs": [
    {
     "data": {
      "text/html": [
       "<div>\n",
       "<style scoped>\n",
       "    .dataframe tbody tr th:only-of-type {\n",
       "        vertical-align: middle;\n",
       "    }\n",
       "\n",
       "    .dataframe tbody tr th {\n",
       "        vertical-align: top;\n",
       "    }\n",
       "\n",
       "    .dataframe thead th {\n",
       "        text-align: right;\n",
       "    }\n",
       "</style>\n",
       "<table border=\"1\" class=\"dataframe\">\n",
       "  <thead>\n",
       "    <tr style=\"text-align: right;\">\n",
       "      <th></th>\n",
       "      <th>sepal_length</th>\n",
       "      <th>sepal_width</th>\n",
       "      <th>petal_length</th>\n",
       "      <th>petal_width</th>\n",
       "    </tr>\n",
       "  </thead>\n",
       "  <tbody>\n",
       "    <tr>\n",
       "      <th>0</th>\n",
       "      <td>5.1</td>\n",
       "      <td>3.5</td>\n",
       "      <td>1.4</td>\n",
       "      <td>0.2</td>\n",
       "    </tr>\n",
       "    <tr>\n",
       "      <th>1</th>\n",
       "      <td>4.9</td>\n",
       "      <td>3.0</td>\n",
       "      <td>1.4</td>\n",
       "      <td>0.2</td>\n",
       "    </tr>\n",
       "    <tr>\n",
       "      <th>2</th>\n",
       "      <td>4.7</td>\n",
       "      <td>3.2</td>\n",
       "      <td>1.3</td>\n",
       "      <td>0.2</td>\n",
       "    </tr>\n",
       "  </tbody>\n",
       "</table>\n",
       "</div>"
      ],
      "text/plain": [
       "   sepal_length  sepal_width  petal_length  petal_width\n",
       "0           5.1          3.5           1.4          0.2\n",
       "1           4.9          3.0           1.4          0.2\n",
       "2           4.7          3.2           1.3          0.2"
      ]
     },
     "execution_count": 6,
     "metadata": {},
     "output_type": "execute_result"
    }
   ],
   "source": [
    "clf_X_df.head(3)"
   ]
  },
  {
   "cell_type": "code",
   "execution_count": 7,
   "metadata": {},
   "outputs": [
    {
     "data": {
      "text/plain": [
       "0    Iris-setosa\n",
       "1    Iris-setosa\n",
       "2    Iris-setosa\n",
       "Name: label, dtype: object"
      ]
     },
     "execution_count": 7,
     "metadata": {},
     "output_type": "execute_result"
    }
   ],
   "source": [
    "clf_y_df.head(3)"
   ]
  },
  {
   "cell_type": "markdown",
   "metadata": {},
   "source": [
    "##TODO: \n",
    "Setup:\n",
    "Input:\n",
    "- batch (as seperate argument) full/minibatch\n",
    "- sgd single/minibatch (random)\n",
    "Output:\n",
    "- output labelencoder\n",
    "- save actual labels\n",
    "\n",
    "Loss functions:\n",
    "- relu\n",
    "- relu derivative\n",
    "- softmax\n",
    "- softmax derivative\n",
    "\n",
    "\n",
    "forward propagation:\n",
    "- iterative until final layer\n",
    "\n",
    "loss computation:\n",
    "- binary_crossentropy\n",
    "- categorical_crossentropy\n",
    "\n",
    "back propagation:\n",
    "- chain builder - Parameter respective,for each training example, negative gradient\n",
    "\n",
    "parameter update:\n",
    "- average derivative respective to each parameter for all training examples\n",
    "- update old weights by adding "
   ]
  },
  {
   "cell_type": "markdown",
   "metadata": {},
   "source": [
    "## Algorithm"
   ]
  },
  {
   "cell_type": "code",
   "execution_count": 8,
   "metadata": {},
   "outputs": [],
   "source": [
    "class MutliLayerPerceptronClassifer():\n",
    "    def __init__(self):\n",
    "        # RNG seed\n",
    "        np.random.seed(20)\n",
    "        # network config vars\n",
    "        self.layers_config = []\n",
    "        self.network_structure = None\n",
    "        self.loss_function = None\n",
    "        self.optimizer = None\n",
    "        \n",
    "        self.supported_network_settings = {\n",
    "            \"activation\": [\"sigmoid\", \"relu\", \"softmax\"],\n",
    "            \"loss\": [\"binary_crossentropy\", \"categorical_crossentropy\"],\n",
    "            \"optimizer\": [\"sgd\"]\n",
    "        }\n",
    "        \n",
    "    def add_layer(self, units, activation=\"relu\", input_units=None):\n",
    "        # Validate activation value\n",
    "        self.validate_settings(setting_type=\"activation\", setting_value=activation)\n",
    "        \n",
    "        layers_count = len(self.layers_config)\n",
    "        # check if this is the first layer \n",
    "        if (layers_count == 0):\n",
    "            if (input_units == None):\n",
    "                # We need input_dim as this is the first hidden layer\n",
    "                raise Exception(\"Please specify parameter value for 'input_units'(eg: input_units=4), as this is the first hidden layer\")\n",
    "            else:\n",
    "                # First create the input layer\n",
    "                self.layers_config.append((layers_count, input_units, None))\n",
    "                # Next add the hidden layer\n",
    "                self.layers_config.append((layers_count+1, units, activation))\n",
    "        else:  \n",
    "            self.layers_config.append((layers_count+1, units, activation))\n",
    "    \n",
    "    def sigmoid_activation(self, z):\n",
    "        # Plain and simple sigmoid function, function returns prob for z(z is weighted sum of input)\n",
    "        return 1 / (1 + np.exp(-z))\n",
    "    \n",
    "    \n",
    "    def sigmoid_derivative(self, sig_z): # sig_z = sig(w.a + b) (vectors w,a represent weight,activations)\n",
    "        # Differentiate sigmoid function w.r.t to z to obtain sig_z * (1 - sig_z)\n",
    "        return sig_z * (1 - sig_z)\n",
    "    \n",
    "    \n",
    "    def standardizer(self, x): # Normalize with mean 0 and std-dev of 1, also called z-score \n",
    "        x_mean = np.mean(x, axis=0)\n",
    "        x_std = np.std(x, axis=0)\n",
    "        stdz_x = np.divide((x - x_mean), x_std, where=x_std!=0)\n",
    "        return stdz_x\n",
    "    \n",
    "    def validate_settings(self, setting_type, setting_value):\n",
    "        if setting_value not in self.supported_network_settings[setting_type]:\n",
    "            raise Exception(f\"{setting_type}='{setting_value}' is not supported, please specify {setting_type} as any one from the following list {self.supported_network_settings[setting_type]}\")\n",
    "        \n",
    "    \n",
    "    def compile_network(self, loss, optimizer=None, batch=None):\n",
    "        # Validate loss value\n",
    "        self.validate_settings(setting_type=\"loss\", setting_value=loss)\n",
    "        # Validate optimizer value\n",
    "        if optimizer is not None: # If None then use entire dataset as one epoch\n",
    "            self.validate_settings(setting_type=\"optimizer\", setting_value=optimizer)\n",
    "            \n",
    "        # Setup layers\n",
    "        self.network_structure = list(map(tuple, np.array(self.layers_config)[:, :-1])) # Ignore the last columns as it specifies the type of activation function\n",
    "        # Initialize loss functions and optimizer\n",
    "        self.loss_function = loss # Implement softmax and Relu activation function also their respective derivatives\n",
    "        self.optimizer = optimizer # Implement sgd and if possible plain optimizer\n",
    "        # initialize and store Weights and biases with random values\n",
    "        self.layer_weight_matrices = []\n",
    "        self.layer_biases = []\n",
    "        for layers_number in range(len(self.network_structure)-1):\n",
    "            layer_a_units = self.network_structure[layers_number][1]\n",
    "            layer_b_units = self.network_structure[layers_number+1][1]\n",
    "            weights_matrix = np.random.rand(layer_a_units, layer_b_units) # matrix with random weights\n",
    "            self.layer_weight_matrices.append(weights_matrix) # append matrix to list\n",
    "            self.layer_biases.append(np.zeros((1, layer_b_units))) # store initial bias as 0, to be used for computing each activation for a layer\n",
    "        \n",
    "        \n",
    "    \n",
    "    def fit(self, X, y, iterations=100):\n",
    "        # feature scaling\n",
    "        X = self.standardizer(X)\n",
    "        \n",
    "        \n",
    "    def predict(self):\n",
    "        # Remember to perform feature scaling\n",
    "        pass\n",
    "    "
   ]
  },
  {
   "cell_type": "code",
   "execution_count": 9,
   "metadata": {},
   "outputs": [],
   "source": [
    "def plot_network_arch(sizes, activations):\n",
    "    fig_graph = plt.figure(figsize=(10, 10))\n",
    "    draw_neural_network.draw(fig_graph.gca(), .1, .9, .1, .9, sizes, activations)"
   ]
  },
  {
   "cell_type": "code",
   "execution_count": 10,
   "metadata": {},
   "outputs": [],
   "source": [
    "mlpc = MutliLayerPerceptronClassifer()\n",
    "mlpc.add_layer(units=6, activation=\"relu\", input_units=4)\n",
    "mlpc.add_layer(units=6, activation=\"relu\")\n",
    "mlpc.add_layer(units=3, activation=\"softmax\", input_units=4)"
   ]
  },
  {
   "cell_type": "code",
   "execution_count": 11,
   "metadata": {},
   "outputs": [],
   "source": [
    "mlpc.compile_network(loss='categorical_crossentropy', optimizer='sgd')"
   ]
  },
  {
   "cell_type": "code",
   "execution_count": 12,
   "metadata": {},
   "outputs": [],
   "source": [
    "mlpc.fit(clf_X_df.values, clf_y_df.values, iterations=100)"
   ]
  },
  {
   "cell_type": "code",
   "execution_count": 13,
   "metadata": {},
   "outputs": [
    {
     "data": {
      "text/plain": [
       "[(0, 4, None), (1, 6, 'relu'), (3, 6, 'relu'), (4, 3, 'softmax')]"
      ]
     },
     "execution_count": 13,
     "metadata": {},
     "output_type": "execute_result"
    }
   ],
   "source": [
    "mlpc.layers_config"
   ]
  },
  {
   "cell_type": "code",
   "execution_count": 14,
   "metadata": {},
   "outputs": [
    {
     "data": {
      "text/plain": [
       "[(0, 4), (1, 6), (3, 6), (4, 3)]"
      ]
     },
     "execution_count": 14,
     "metadata": {},
     "output_type": "execute_result"
    }
   ],
   "source": [
    "wts = mlpc.network_structure\n",
    "wts"
   ]
  },
  {
   "cell_type": "code",
   "execution_count": 18,
   "metadata": {},
   "outputs": [
    {
     "data": {
      "image/png": "[encoded data removed]",
      "text/plain": [
       "<Figure size 720x720 with 1 Axes>"
      ]
     },
     "metadata": {
      "needs_background": "light"
     },
     "output_type": "display_data"
    }
   ],
   "source": [
    "plot_network_arch(np.array(mlpc.network_structure)[:, 1], activations=None)"
   ]
  },
  {
   "cell_type": "code",
   "execution_count": 41,
   "metadata": {},
   "outputs": [],
   "source": [
    "# 78"
   ]
  },
  {
   "cell_type": "code",
   "execution_count": 42,
   "metadata": {},
   "outputs": [],
   "source": [
    "# wtc =[]"
   ]
  },
  {
   "cell_type": "code",
   "execution_count": 43,
   "metadata": {},
   "outputs": [],
   "source": [
    "# for layers_number in range(len(wts)-1):\n",
    "#     layer_a_units = wts[layers_number][1]\n",
    "#     layer_b_units = wts[layers_number+1][1]\n",
    "#     weights_matrix = np.random.rand(layer_a_units, layer_b_units)\n",
    "#     wtc.append(weights_matrix)"
   ]
  },
  {
   "cell_type": "code",
   "execution_count": 44,
   "metadata": {},
   "outputs": [],
   "source": [
    "# np.random.rand(3,2)"
   ]
  },
  {
   "cell_type": "code",
   "execution_count": 45,
   "metadata": {},
   "outputs": [],
   "source": [
    "# wtc[2].shape"
   ]
  },
  {
   "cell_type": "code",
   "execution_count": null,
   "metadata": {},
   "outputs": [],
   "source": []
  },
  {
   "cell_type": "code",
   "execution_count": 46,
   "metadata": {},
   "outputs": [
    {
     "data": {
      "text/plain": [
       "[array([[0.5881308 , 0.89771373, 0.89153073, 0.81583748, 0.03588959,\n",
       "         0.69175758],\n",
       "        [0.37868094, 0.51851095, 0.65795147, 0.19385022, 0.2723164 ,\n",
       "         0.71860593],\n",
       "        [0.78300361, 0.85032764, 0.77524489, 0.03666431, 0.11669374,\n",
       "         0.7512807 ],\n",
       "        [0.23921822, 0.25480601, 0.85762553, 0.94977903, 0.56168686,\n",
       "         0.17878052]]),\n",
       " array([[0.77025193, 0.49238104, 0.63125307, 0.83949792, 0.4610394 ,\n",
       "         0.49794007],\n",
       "        [0.67941112, 0.65078591, 0.26879524, 0.06732467, 0.77144514,\n",
       "         0.48098413],\n",
       "        [0.32920641, 0.51064106, 0.26362883, 0.31051155, 0.62685344,\n",
       "         0.55744981],\n",
       "        [0.31857956, 0.39484322, 0.25797459, 0.58224112, 0.16162871,\n",
       "         0.59813382],\n",
       "        [0.82582358, 0.15639172, 0.73430052, 0.40864343, 0.7786879 ,\n",
       "         0.80397057],\n",
       "        [0.78607144, 0.59228702, 0.6644892 , 0.64656729, 0.42563648,\n",
       "         0.51356833]]),\n",
       " array([[0.50125784, 0.03708381, 0.7081161 ],\n",
       "        [0.6204306 , 0.77780853, 0.45940947],\n",
       "        [0.37980555, 0.2918922 , 0.55722886],\n",
       "        [0.0841636 , 0.63128167, 0.94457049],\n",
       "        [0.89123753, 0.87858258, 0.34475163],\n",
       "        [0.70310053, 0.5273376 , 0.65931696]])]"
      ]
     },
     "execution_count": 46,
     "metadata": {},
     "output_type": "execute_result"
    }
   ],
   "source": [
    "mlpc.layer_weight_matrices"
   ]
  },
  {
   "cell_type": "code",
   "execution_count": 47,
   "metadata": {},
   "outputs": [
    {
     "data": {
      "text/plain": [
       "[array([[0., 0., 0., 0., 0., 0.]]),\n",
       " array([[0., 0., 0., 0., 0., 0.]]),\n",
       " array([[0., 0., 0.]])]"
      ]
     },
     "execution_count": 47,
     "metadata": {},
     "output_type": "execute_result"
    }
   ],
   "source": [
    "mlpc.layer_biases"
   ]
  },
  {
   "cell_type": "code",
   "execution_count": null,
   "metadata": {},
   "outputs": [],
   "source": []
  },
  {
   "cell_type": "code",
   "execution_count": 24,
   "metadata": {},
   "outputs": [
    {
     "data": {
      "text/plain": [
       "array([[0.16563555, 0.33225194, 0.16543775, 0.91463798, 0.28402501]])"
      ]
     },
     "execution_count": 24,
     "metadata": {},
     "output_type": "execute_result"
    }
   ],
   "source": [
    "np.random.rand(1, 5)"
   ]
  },
  {
   "cell_type": "code",
   "execution_count": null,
   "metadata": {},
   "outputs": [],
   "source": []
  },
  {
   "cell_type": "code",
   "execution_count": null,
   "metadata": {},
   "outputs": [],
   "source": []
  },
  {
   "cell_type": "code",
   "execution_count": null,
   "metadata": {},
   "outputs": [],
   "source": []
  },
  {
   "cell_type": "code",
   "execution_count": 20,
   "metadata": {},
   "outputs": [],
   "source": [
    "dtr = ['relu', 'softmax', 'sigmoid']"
   ]
  },
  {
   "cell_type": "code",
   "execution_count": 22,
   "metadata": {},
   "outputs": [
    {
     "name": "stdout",
     "output_type": "stream",
     "text": [
      "hi\n"
     ]
    }
   ],
   "source": [
    "if 'relu' in dtr: print(\"hi\")"
   ]
  },
  {
   "cell_type": "code",
   "execution_count": null,
   "metadata": {},
   "outputs": [],
   "source": []
  },
  {
   "cell_type": "code",
   "execution_count": null,
   "metadata": {},
   "outputs": [],
   "source": []
  },
  {
   "cell_type": "code",
   "execution_count": null,
   "metadata": {},
   "outputs": [],
   "source": []
  },
  {
   "cell_type": "code",
   "execution_count": null,
   "metadata": {},
   "outputs": [],
   "source": []
  },
  {
   "cell_type": "code",
   "execution_count": null,
   "metadata": {},
   "outputs": [],
   "source": []
  },
  {
   "cell_type": "code",
   "execution_count": 45,
   "metadata": {},
   "outputs": [],
   "source": [
    "dc = []"
   ]
  },
  {
   "cell_type": "code",
   "execution_count": 46,
   "metadata": {},
   "outputs": [],
   "source": [
    "if dc: print(\"hit\")"
   ]
  },
  {
   "cell_type": "code",
   "execution_count": 68,
   "metadata": {},
   "outputs": [],
   "source": [
    "b2 = np.array([(1, 12, None), (2, 22, 222)])"
   ]
  },
  {
   "cell_type": "code",
   "execution_count": 72,
   "metadata": {},
   "outputs": [
    {
     "data": {
      "text/plain": [
       "[(1, 12), (2, 22)]"
      ]
     },
     "execution_count": 72,
     "metadata": {},
     "output_type": "execute_result"
    }
   ],
   "source": [
    "list(map(tuple, b2[:, :-1]))"
   ]
  },
  {
   "cell_type": "code",
   "execution_count": 71,
   "metadata": {},
   "outputs": [
    {
     "data": {
      "text/plain": [
       "[[1], [2]]"
      ]
     },
     "execution_count": 71,
     "metadata": {},
     "output_type": "execute_result"
    }
   ],
   "source": [
    "b2[:, :1].tolist()"
   ]
  },
  {
   "cell_type": "code",
   "execution_count": 24,
   "metadata": {},
   "outputs": [
    {
     "data": {
      "text/plain": [
       "[(1, 12), (2, 22)]"
      ]
     },
     "execution_count": 24,
     "metadata": {},
     "output_type": "execute_result"
    }
   ],
   "source": [
    "list(map(tuple, b2[:, :-1]))"
   ]
  },
  {
   "cell_type": "code",
   "execution_count": 39,
   "metadata": {},
   "outputs": [],
   "source": [
    "a1 = np.array([[4, 20, 50, 100],\n",
    "               [5, 27, 50, 120],\n",
    "               [7, 23, 50, 130],\n",
    "               [10, 22, 50, 140],\n",
    "               [3, 24, 50, 150]])"
   ]
  },
  {
   "cell_type": "code",
   "execution_count": 47,
   "metadata": {},
   "outputs": [],
   "source": [
    "a3 = np.array([[1], [2]])"
   ]
  },
  {
   "cell_type": "code",
   "execution_count": 48,
   "metadata": {},
   "outputs": [
    {
     "data": {
      "text/plain": [
       "(2, 1)"
      ]
     },
     "execution_count": 48,
     "metadata": {},
     "output_type": "execute_result"
    }
   ],
   "source": [
    "a3.shape"
   ]
  },
  {
   "cell_type": "code",
   "execution_count": 34,
   "metadata": {},
   "outputs": [],
   "source": [
    "def standardized(x): # Normalize with mean 0 and std-dev of 1, also called z-score \n",
    "    x_mean = np.mean(x, axis=0)\n",
    "    x_std = np.std(x, axis=0)\n",
    "    stdz_x = np.divide((x - x_mean), x_std, where=x_std!=0)\n",
    "    return stdz_x"
   ]
  },
  {
   "cell_type": "code",
   "execution_count": 35,
   "metadata": {},
   "outputs": [],
   "source": [
    "a2 = standardized(a1)"
   ]
  },
  {
   "cell_type": "code",
   "execution_count": 36,
   "metadata": {},
   "outputs": [
    {
     "data": {
      "text/plain": [
       "array([[-0.72524067, -1.38218948,  0.        , -1.62746694],\n",
       "       [-0.32232919,  1.64135001,  0.        , -0.46499055],\n",
       "       [ 0.48349378, -0.08638684,  0.        ,  0.11624764],\n",
       "       [ 1.69222822, -0.51832106,  0.        ,  0.69748583],\n",
       "       [-1.12815215,  0.34554737,  0.        ,  1.27872403]])"
      ]
     },
     "execution_count": 36,
     "metadata": {},
     "output_type": "execute_result"
    }
   ],
   "source": [
    "a2"
   ]
  },
  {
   "cell_type": "code",
   "execution_count": 26,
   "metadata": {},
   "outputs": [],
   "source": [
    "from sklearn.preprocessing import StandardScaler"
   ]
  },
  {
   "cell_type": "code",
   "execution_count": 27,
   "metadata": {},
   "outputs": [],
   "source": [
    "scaler = StandardScaler()"
   ]
  },
  {
   "cell_type": "code",
   "execution_count": 30,
   "metadata": {},
   "outputs": [
    {
     "name": "stdout",
     "output_type": "stream",
     "text": [
      "StandardScaler(copy=True, with_mean=True, with_std=True)\n"
     ]
    }
   ],
   "source": [
    "print(scaler.fit(a1))"
   ]
  },
  {
   "cell_type": "code",
   "execution_count": 32,
   "metadata": {},
   "outputs": [
    {
     "name": "stdout",
     "output_type": "stream",
     "text": [
      "[  5.8  23.2  50.  128. ]\n"
     ]
    }
   ],
   "source": [
    "print(scaler.mean_)"
   ]
  },
  {
   "cell_type": "code",
   "execution_count": 33,
   "metadata": {},
   "outputs": [
    {
     "name": "stdout",
     "output_type": "stream",
     "text": [
      "[[-0.72524067 -1.38218948  0.         -1.62746694]\n",
      " [-0.32232919  1.64135001  0.         -0.46499055]\n",
      " [ 0.48349378 -0.08638684  0.          0.11624764]\n",
      " [ 1.69222822 -0.51832106  0.          0.69748583]\n",
      " [-1.12815215  0.34554737  0.          1.27872403]]\n"
     ]
    }
   ],
   "source": [
    "print(scaler.transform(a1))"
   ]
  },
  {
   "cell_type": "code",
   "execution_count": null,
   "metadata": {},
   "outputs": [],
   "source": []
  },
  {
   "cell_type": "code",
   "execution_count": 65,
   "metadata": {},
   "outputs": [],
   "source": [
    "b1 = [(1, 20), (2, 30), (4, 40), (8, 10)]"
   ]
  },
  {
   "cell_type": "code",
   "execution_count": 67,
   "metadata": {},
   "outputs": [
    {
     "data": {
      "text/plain": [
       "array([20, 30, 40, 10])"
      ]
     },
     "execution_count": 67,
     "metadata": {},
     "output_type": "execute_result"
    }
   ],
   "source": [
    "np.array(b1)[:, 1]"
   ]
  },
  {
   "cell_type": "code",
   "execution_count": null,
   "metadata": {},
   "outputs": [],
   "source": []
  },
  {
   "cell_type": "code",
   "execution_count": null,
   "metadata": {},
   "outputs": [],
   "source": [
    "import numpy as np\n",
    "\n",
    "class NeuralNetwork():\n",
    "    \n",
    "    def __init__(self):\n",
    "        # Seed the random number generator\n",
    "        np.random.seed(1)\n",
    "\n",
    "        # Set synaptic weights to a 3x1 matrix,\n",
    "        # with values from -1 to 1 and mean 0\n",
    "        self.synaptic_weights = 2 * np.random.random((3, 1)) - 1\n",
    "\n",
    "    def sigmoid(self, x):\n",
    "        \"\"\"\n",
    "        Takes in weighted sum of the inputs and normalizes\n",
    "        them through between 0 and 1 through a sigmoid function\n",
    "        \"\"\"\n",
    "        return 1 / (1 + np.exp(-x))\n",
    "\n",
    "    def sigmoid_derivative(self, x):\n",
    "        \"\"\"\n",
    "        The derivative of the sigmoid function used to\n",
    "        calculate necessary weight adjustments\n",
    "        \"\"\"\n",
    "        return x * (1 - x)\n",
    "\n",
    "    def train(self, training_inputs, training_outputs, training_iterations):\n",
    "        \"\"\"\n",
    "        We train the model through trial and error, adjusting the\n",
    "        synaptic weights each time to get a better result\n",
    "        \"\"\"\n",
    "        for iteration in range(training_iterations):\n",
    "            # Pass training set through the neural network\n",
    "            output = self.think(training_inputs)\n",
    "\n",
    "            # Calculate the error rate\n",
    "            error = training_outputs - output\n",
    "\n",
    "            # Multiply error by input and gradient of the sigmoid function\n",
    "            # Less confident weights are adjusted more through the nature of the function\n",
    "            adjustments = np.dot(training_inputs.T, error * self.sigmoid_derivative(output))\n",
    "\n",
    "            # Adjust synaptic weights\n",
    "            self.synaptic_weights += adjustments\n",
    "\n",
    "    def think(self, inputs):\n",
    "        \"\"\"\n",
    "        Pass inputs through the neural network to get output\n",
    "        \"\"\"\n",
    "        \n",
    "        inputs = inputs.astype(float)\n",
    "        output = self.sigmoid(np.dot(inputs, self.synaptic_weights))\n",
    "        return output\n",
    "\n",
    "\n",
    "if __name__ == \"__main__\":\n",
    "\n",
    "    # Initialize the single neuron neural network\n",
    "    neural_network = NeuralNetwork()\n",
    "\n",
    "    print(\"Random starting synaptic weights: \")\n",
    "    print(neural_network.synaptic_weights)\n",
    "\n",
    "    # The training set, with 4 examples consisting of 3\n",
    "    # input values and 1 output value\n",
    "    training_inputs = np.array([[0,0,1],\n",
    "                                [1,1,1],\n",
    "                                [1,0,1],\n",
    "                                [0,1,1]])\n",
    "\n",
    "    training_outputs = np.array([[0,1,1,0]]).T\n",
    "\n",
    "    # Train the neural network\n",
    "    neural_network.train(training_inputs, training_outputs, 10000)\n",
    "\n",
    "    print(\"Synaptic weights after training: \")\n",
    "    print(neural_network.synaptic_weights)\n",
    "\n",
    "    A = str(input(\"Input 1: \"))\n",
    "    B = str(input(\"Input 2: \"))\n",
    "    C = str(input(\"Input 3: \"))\n",
    "    \n",
    "    print(\"New situation: input data = \", A, B, C)\n",
    "    print(\"Output data: \")\n",
    "    print(neural_network.think(np.array([A, B, C])))"
   ]
  },
  {
   "cell_type": "code",
   "execution_count": null,
   "metadata": {},
   "outputs": [],
   "source": []
  },
  {
   "cell_type": "code",
   "execution_count": null,
   "metadata": {},
   "outputs": [],
   "source": [
    "        # Save input layer size\n",
    "        self.network_structure.append((len(self.network_structure), X.shape[1]))\n",
    "        # Save hidden layer sizes\n",
    "        if self.hidden_layers_config:\n",
    "            self.network_structure.extend(list(map(tuple, np.array(self.hidden_layers_config)[:, :-1])))\n",
    "#         if hidden_layer_sizes != None:\n",
    "#             for hidden_layer_size in hidden_layer_sizes:\n",
    "#                 layer_number = len(self.network_structure) + 1\n",
    "#                 self.network_structure.append((layer_number, hidden_layer_size))\n",
    "#                 # Also append shape to hidden_layers_shape\n",
    "#                 self.hidden_layers_shape.append(self.network_structure[-1])\n",
    "        # Save output layer size\n",
    "        self.label_values = np.unique(y)\n",
    "        self.network_structure.append((len(self.network_structure)+1, self.label_values.size))  "
   ]
  }
 ],
 "metadata": {
  "kernelspec": {
   "display_name": "Python 3",
   "language": "python",
   "name": "python3"
  },
  "language_info": {
   "codemirror_mode": {
    "name": "ipython",
    "version": 3
   },
   "file_extension": ".py",
   "mimetype": "text/x-python",
   "name": "python",
   "nbconvert_exporter": "python",
   "pygments_lexer": "ipython3",
   "version": "3.7.3"
  }
 },
 "nbformat": 4,
 "nbformat_minor": 4
}
