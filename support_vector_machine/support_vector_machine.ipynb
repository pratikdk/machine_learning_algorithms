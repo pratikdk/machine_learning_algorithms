{
 "cells": [
  {
   "cell_type": "markdown",
   "metadata": {},
   "source": [
    "Note: This has reference to implementation by Sentdex"
   ]
  },
  {
   "cell_type": "code",
   "execution_count": 1,
   "metadata": {},
   "outputs": [],
   "source": [
    "import matplotlib.pyplot as plt\n",
    "from matplotlib import style\n",
    "import numpy as np\n",
    "from pprint import pprint\n",
    "style.use('ggplot')"
   ]
  },
  {
   "cell_type": "code",
   "execution_count": 4,
   "metadata": {},
   "outputs": [],
   "source": [
    "class Support_Vector_Machine():\n",
    "    def __init__(self, visualization=True):\n",
    "        self.visualization = visualization\n",
    "        self.colors = {1: 'r', -1: 'b'}\n",
    "        \n",
    "    # Train\n",
    "    def fit(self, data):\n",
    "        # Note: Enable comments ending with trailing # to store values for w_vector plotting considering below warning,\n",
    "        # Caution: Do not enable/or-try plotting when using step multiplier(check out step_sizes) of greater than 0.01[too many values to store, might freeze computer]\n",
    "        \n",
    "        self.data = data\n",
    "        \n",
    "        # { ||w||: [w,b] }\n",
    "        opt_dict = {} # To store optimal weighhts\n",
    "        \n",
    "        # Initialize transforms\n",
    "        transforms = [[1, 1], \n",
    "                      [-1, 1], \n",
    "                      [-1, -1], \n",
    "                      [1, -1]]\n",
    "        \n",
    "        all_data =[]\n",
    "        # Store each feature in list\n",
    "        for label in self.data:\n",
    "            for featureset in self.data[label]:\n",
    "                for feature in featureset:\n",
    "                    all_data.append(feature)\n",
    "        \n",
    "        # Extract max feature value and min feature value\n",
    "        self.max_feature_value = max(all_data)\n",
    "        self.min_feature_value = min(all_data)\n",
    "        all_data = None # discard all_data to save memory\n",
    "        \n",
    "        # SV candidate definition\n",
    "        # xi.w+b = 1 .. when y = 1 ... [1]\n",
    "        # xi.w+b = -1 .. when y = 0 ... [2]\n",
    "        # Multiplying both sides by y\n",
    "        # y(xi.w+b) = y(1) ... [1]\n",
    "        # y(xi.w+b) = y(-1) ... [2]\n",
    "        # Hence we get\n",
    "        # y(xi.w+b) = 1\n",
    "        \n",
    "        # Optimization step strides\n",
    "        step_sizes = [self.max_feature_value * 0.1,\n",
    "                     self.max_feature_value * 0.01,\n",
    "                     # costly computation\n",
    "                     self.max_feature_value * 0.001]\n",
    "        \n",
    "        # Bias range multiplier\n",
    "        b_range_multiple = 2\n",
    "        \n",
    "        # bias step stride\n",
    "        b_multiple = 5\n",
    "        \n",
    "        # Initial optimum value\n",
    "        latest_optimum = self.max_feature_value*10\n",
    "        \n",
    "        # Container to plot non-optimized w, b traversal\n",
    "        w_min = [] #\n",
    "        step_idxs = [] #\n",
    "        # Try each step stride\n",
    "        for si, step in enumerate(step_sizes):\n",
    "            #w_min_step = [] #\n",
    "            #b_min_step = [] #\n",
    "            # initialize weight/paramenter vector\n",
    "            w = np.array([latest_optimum, latest_optimum])\n",
    "            # Optimized flag, activated when w[0] crosses 0 (origin)\n",
    "            optimized = False\n",
    "            # Keep trying and minimizing w, to find set of w's that classifies\n",
    "            # each example correctly with a confidence specified by equation\n",
    "            # 'y*(np.dot(w_t,xi)+b) >= 1', which is of >= 1 (Large margin)\n",
    "            while not optimized:\n",
    "                # Iteratively shift bias from negative to positive\n",
    "                for b in np.arange(-1*(self.max_feature_value*b_range_multiple),\n",
    "                                   self.max_feature_value*b_range_multiple,\n",
    "                                   step * b_multiple):\n",
    "                    # Try w in each quadrant\n",
    "                    for transformation in transforms:\n",
    "                        w_t = w * transformation\n",
    "                        \n",
    "                        # Offload the w_t and b to step container for plotting\n",
    "                        #w_min_step.append(w_t) #\n",
    "                        #b_min_step.append(b) #\n",
    "                        \n",
    "                        w_min.append(w_t)\n",
    "                        step_idxs.append(si)\n",
    "                        \n",
    "                        # Classification flag, \n",
    "                        # Initially set to True,\n",
    "                        # but if wrong classification is made... it is changed to False\n",
    "                        found_option = True\n",
    "                        \n",
    "                        # Try w_t and b w.r.t to all examples,\n",
    "                        # validate if they both serve SV criteria (correctly classify with large margin confidence),\n",
    "                        # to be accepted as a candidate support vector.\n",
    "                        for yi in self.data:\n",
    "                            for xi in self.data[yi]:\n",
    "                                if not yi*(np.dot(w_t, xi)+b) >= 1:\n",
    "                                    # Wrong classification detected\n",
    "                                    # Hence, doesn't serve the criteria(condition)\n",
    "                                    found_option = False\n",
    "                        \n",
    "                        # If current w_t and b made all classification correctly it is a possible SV\n",
    "                        if found_option:\n",
    "                            # Store magnitude of w_t as key,\n",
    "                            # and w_t and b as value\n",
    "                            opt_dict[np.linalg.norm(w_t)] = [w_t, b]\n",
    "                        \n",
    "                if w[0] < 0: # if crosses 0 (origin), marks the exit of current step\n",
    "                    optimized = True\n",
    "                    print('Optimized a step.')\n",
    "                else: # minimize w\n",
    "                    w = w - step\n",
    "                    \n",
    "            # Offload step container to w_b_min        \n",
    "            #w_min.append(np.array(w_min_step)) #\n",
    "            #b_min.append(np.array(b_min_step)) #\n",
    "            \n",
    "            # Sort opt_dict(which stores possbile support vectors), according to magnitude\n",
    "            norms = sorted([n for n in opt_dict])\n",
    "            #||w|| : [w,b]\n",
    "            # Choose the w vector with lowest magnitude achieved in our current step\n",
    "            # This w vector is utilized in the next iteration as starting point(latest_optimum)\n",
    "            opt_choice = opt_dict[norms[0]]\n",
    "            self.w = opt_choice[0] # vector\n",
    "            self.b = opt_choice[1] # bias\n",
    "            # latest_optimum fournd in current step is utilized as starting point with\n",
    "            # a slight step back (which is sstep*2)\n",
    "            latest_optimum = opt_choice[0][0] + step*2\n",
    "            \n",
    "        self.visualize()\n",
    "            \n",
    "        return np.array(w_min), np.array(step_idxs) #\n",
    "    \n",
    "    \n",
    "    # Predict\n",
    "    def predict(self, features):\n",
    "        # sign( x.w+b ) .... [+ is positive class and - is negative class]\n",
    "        classification = np.sign(np.dot(np.array(features), self.w) + self.b)\n",
    "        if classification != 0 and self.visualization: # plot point with color based on classification\n",
    "            self.ax.scatter(features[0], features[1], s=200, marker=\"*\", c=self.colors[classification])\n",
    "        return classification\n",
    "    \n",
    "    \n",
    "    # Visualize\n",
    "    def visualize(self):\n",
    "        if self.visualization:\n",
    "            self.fig = plt.figure()\n",
    "            self.ax = self.fig.add_subplot(1, 1, 1)\n",
    "        # Plot training points\n",
    "        [[self.ax.scatter(x[0],x[1],s=50,color=self.colors[i]) for x in data_dict[i]] for i in data_dict]\n",
    "        \n",
    "        # hyperplane = x.w+b\n",
    "        # v = x.w+b ... (v = value we are expecting)\n",
    "        # psv = 1 (Positive support vector)\n",
    "        # nsv = -1 (Negative support vector)\n",
    "        # dec = 0 (Decision boundary)\n",
    "        def hyperplane(x, w, b, v):\n",
    "            return (-w[0]*x-b+v) / w[1]\n",
    "        \n",
    "        datarange = (self.min_feature_value*0.9, self.max_feature_value*1.1)\n",
    "        hyp_x_min = datarange[0]\n",
    "        hyp_x_max = datarange[1]\n",
    "        \n",
    "        # (w.x+b) = 1\n",
    "        # positive support vector hyperplane\n",
    "        psv1 = hyperplane(hyp_x_min, self.w, self.b, 1)\n",
    "        psv2 = hyperplane(hyp_x_max, self.w, self.b, 1)\n",
    "        self.ax.plot([hyp_x_min,hyp_x_max],[psv1,psv2], 'k')\n",
    "        \n",
    "        # (w.x+b) = -1\n",
    "        # negative support vector hyperplane\n",
    "        nsv1 = hyperplane(hyp_x_min, self.w, self.b, -1)\n",
    "        nsv2 = hyperplane(hyp_x_max, self.w, self.b, -1)\n",
    "        self.ax.plot([hyp_x_min,hyp_x_max],[nsv1,nsv2], 'k')\n",
    "\n",
    "        # (w.x+b) = 0\n",
    "        # positive support vector hyperplane\n",
    "        db1 = hyperplane(hyp_x_min, self.w, self.b, 0)\n",
    "        db2 = hyperplane(hyp_x_max, self.w, self.b, 0)\n",
    "        self.ax.plot([hyp_x_min,hyp_x_max],[db1,db2], 'y--')\n",
    "        "
   ]
  },
  {
   "cell_type": "code",
   "execution_count": 5,
   "metadata": {},
   "outputs": [],
   "source": [
    "data_dict = {\n",
    "    -1: np.array([[1, 7], [2, 8], [3, 8]]),\n",
    "     1: np.array([[5, 1], [6, -1], [7, 3]])\n",
    "}"
   ]
  },
  {
   "cell_type": "code",
   "execution_count": 6,
   "metadata": {},
   "outputs": [],
   "source": [
    "svc = Support_Vector_Machine()"
   ]
  },
  {
   "cell_type": "code",
   "execution_count": 7,
   "metadata": {},
   "outputs": [
    {
     "name": "stdout",
     "output_type": "stream",
     "text": [
      "Optimized a step.\n",
      "Optimized a step.\n",
      "Optimized a step.\n"
     ]
    },
    {
     "data": {
      "image/png": "[encoded data removed]",
      "text/plain": [
       "<Figure size 432x288 with 1 Axes>"
      ]
     },
     "metadata": {
      "needs_background": "light"
     },
     "output_type": "display_data"
    }
   ],
   "source": [
    "# w_hist, b_hist = svc.fit(data=data_dict) # \n",
    "#svc.fit(data=data_dict)\n",
    "w_hist, step_idxs = svc.fit(data=data_dict)"
   ]
  },
  {
   "cell_type": "code",
   "execution_count": 8,
   "metadata": {},
   "outputs": [],
   "source": [
    "predict_us = [[0,10],\n",
    "              [1,3],\n",
    "              [3,4],\n",
    "              [3,5],\n",
    "              [5,5],\n",
    "              [5,6],\n",
    "              [6,-5],\n",
    "              [5,8]]"
   ]
  },
  {
   "cell_type": "code",
   "execution_count": 9,
   "metadata": {},
   "outputs": [],
   "source": [
    "predictions = []\n",
    "for p in predict_us:\n",
    "    predictions.append(svc.predict(p))"
   ]
  },
  {
   "cell_type": "code",
   "execution_count": 10,
   "metadata": {},
   "outputs": [
    {
     "data": {
      "text/plain": [
       "[-1.0, -1.0, -1.0, -1.0, 1.0, -1.0, 1.0, -1.0]"
      ]
     },
     "execution_count": 10,
     "metadata": {},
     "output_type": "execute_result"
    }
   ],
   "source": [
    "predictions"
   ]
  },
  {
   "cell_type": "code",
   "execution_count": null,
   "metadata": {},
   "outputs": [],
   "source": []
  },
  {
   "cell_type": "code",
   "execution_count": null,
   "metadata": {},
   "outputs": [],
   "source": []
  },
  {
   "cell_type": "code",
   "execution_count": null,
   "metadata": {},
   "outputs": [],
   "source": []
  },
  {
   "cell_type": "code",
   "execution_count": null,
   "metadata": {},
   "outputs": [],
   "source": []
  },
  {
   "cell_type": "markdown",
   "metadata": {},
   "source": [
    "#### Visualizing w vector postions"
   ]
  },
  {
   "cell_type": "code",
   "execution_count": 10,
   "metadata": {},
   "outputs": [],
   "source": [
    "from matplotlib import animation"
   ]
  },
  {
   "cell_type": "code",
   "execution_count": 11,
   "metadata": {},
   "outputs": [
    {
     "data": {
      "text/plain": [
       "array([[ 80. ,  80. ],\n",
       "       [-80. ,  80. ],\n",
       "       [-80. , -80. ],\n",
       "       ...,\n",
       "       [  0.8,  -0.8],\n",
       "       [  0.8,   0.8],\n",
       "       [ -0.8,   0.8]])"
      ]
     },
     "execution_count": 11,
     "metadata": {},
     "output_type": "execute_result"
    }
   ],
   "source": [
    "#w_d = w_hist[0]\n",
    "w_d = w_hist\n",
    "w_d"
   ]
  },
  {
   "cell_type": "code",
   "execution_count": 12,
   "metadata": {},
   "outputs": [],
   "source": [
    "# #b_d = b_hist[0] \n",
    "# b_d = b_hist \n",
    "# b_hist"
   ]
  },
  {
   "cell_type": "code",
   "execution_count": 13,
   "metadata": {},
   "outputs": [],
   "source": [
    "# def visualize_w(w_vec, step_idxs, file_name_str='test.mp4', fps=120):\n",
    "#     fig = plt.figure(figsize=[10, 10])\n",
    "#     xlim_max = w_vec[0][0] + 30 # + np.max(b_d)\n",
    "#     xlim_min = -(w_vec[0][0] + 30) #+ np.max(b_d))\n",
    "#     ax = plt.axes(xlim=(xlim_min, xlim_max), ylim=(xlim_min, xlim_max))\n",
    "#     ax.axhline(y=0, color='#9F9F9F')\n",
    "#     ax.axvline(x=0, color='#9F9F9F')\n",
    "#     w_vector, = ax.plot([], [], 'o')\n",
    "#     colors = np.array(['#00bfff', '#6a00ff', '#ff0080'])\n",
    "#     def init():\n",
    "#         w_vector.set_data([], [])\n",
    "#         return w_vector,\n",
    "\n",
    "#     def animate(i):\n",
    "#         # Control limits\n",
    "#         if i >= w_vec.shape[0]:\n",
    "            \n",
    "#         else:\n",
    "#         window_size = 40\n",
    "#         if i > window_size:\n",
    "#             # Fetch last 50 raw values \n",
    "#             x_max = np.max(np.abs(w_vec[i-window_size:i, 0]))\n",
    "#             x_min = -(x_max)\n",
    "#             ax.set_xlim(x_min, x_max)\n",
    "            \n",
    "#         s_i = step_idxs[:i]\n",
    "        \n",
    "#         color = colors[step_idxs[i]] \n",
    "#         x_raw = w_vec[:i, 0]\n",
    "#         y_raw = w_vec[:i, 1]\n",
    "#         w_vector.set_data(x_raw, y_raw)\n",
    "#         w_vector.set_c(color)\n",
    "#         return w_vector,\n",
    "\n",
    "#     anim = animation.FuncAnimation(fig, animate, init_func=init, frames=w_vec.shape[0]+6000, interval=2, blit=False)\n",
    "\n",
    "#     FFwriter = animation.FFMpegWriter(fps=fps, extra_args=['-vcodec', 'libx264']) # Very slow [writing] use d\n",
    "#     anim.save(file_name_str, writer = FFwriter)"
   ]
  },
  {
   "cell_type": "code",
   "execution_count": 14,
   "metadata": {},
   "outputs": [],
   "source": [
    "#visualize_w(w_d, step_idxs, file_name_str='ts3.mp4')"
   ]
  },
  {
   "cell_type": "code",
   "execution_count": 15,
   "metadata": {},
   "outputs": [],
   "source": [
    "#visualize_w(w_d, step_idxs, file_name_str='ts4.mp4', fps=1200)"
   ]
  },
  {
   "cell_type": "code",
   "execution_count": null,
   "metadata": {},
   "outputs": [],
   "source": []
  },
  {
   "cell_type": "code",
   "execution_count": 16,
   "metadata": {},
   "outputs": [],
   "source": [
    "def visualize_w_scatter(w_vec, step_idxs, file_name_str='test.mp4', fps=120):\n",
    "    fig = plt.figure(figsize=[10, 10])\n",
    "    limit_buffer = 30\n",
    "    xlim_max = w_vec[0][0] + limit_buffer # + np.max(b_d)\n",
    "    xlim_min = -(w_vec[0][0] + limit_buffer) #+ np.max(b_d))\n",
    "    ax = plt.axes(xlim=(xlim_min, xlim_max), ylim=(xlim_min, xlim_max))\n",
    "    ax.axhline(y=0, color='#9F9F9F')\n",
    "    ax.axvline(x=0, color='#9F9F9F')\n",
    "    w_vector = ax.scatter([], [])\n",
    "    colors = np.array(['#00bfff', '#6a00ff', '#ff0080'])\n",
    "    roll_back_frames = fps * 3\n",
    "    def init():\n",
    "        w_vector.set_offsets([], [])\n",
    "        return w_vector\n",
    "\n",
    "    def animate(i):\n",
    "        if i >= w_vec.shape[0]: # Roll back animation\n",
    "            #Set axis limit\n",
    "            rollback_frame_i = (i+1) - w_vec.shape[0]\n",
    "            rollback_progress_percent = rollback_frame_i / np.float(roll_back_frames)\n",
    "            x_max = xlim_max * rollback_progress_percent\n",
    "            x_min = xlim_min * rollback_progress_percent\n",
    "            ax.set_xlim(x_min, x_max)\n",
    "            ax.set_ylim(x_min, x_max)\n",
    "            # Fetch entire data\n",
    "            color_map= colors[step_idxs]\n",
    "            x_raw = w_vec[:, 0]\n",
    "            y_raw = w_vec[:, 1]\n",
    "            w_vector.set_offsets(np.c_[x_raw, y_raw])\n",
    "            w_vector.set_facecolors(color_map)\n",
    "        else: # Roll in animation\n",
    "            window_size = 40\n",
    "            if i > window_size:\n",
    "                # Fetch last 50 raw values \n",
    "                x_max = np.max(np.abs(w_vec[(i+1)-window_size:i+1, 0])) + limit_buffer\n",
    "                x_min = -(x_max)\n",
    "                ax.set_xlim(x_min, x_max)\n",
    "                ax.set_ylim(x_min, x_max)\n",
    "        \n",
    "            color_map= colors[step_idxs[:i+1]]\n",
    "            x_raw = w_vec[:i+1, 0]\n",
    "            y_raw = w_vec[:i+1, 1]\n",
    "            w_vector.set_offsets(np.c_[x_raw, y_raw])\n",
    "            w_vector.set_facecolors(color_map)\n",
    "        return w_vector,\n",
    "\n",
    "    anim = animation.FuncAnimation(fig, animate, frames=w_vec.shape[0]+roll_back_frames, interval=2, blit=False)\n",
    "\n",
    "    FFwriter = animation.FFMpegWriter(fps=fps, extra_args=['-vcodec', 'libx264']) # this is very slow[because of saving process] please use any different writer\n",
    "    anim.save(file_name_str, writer = FFwriter)"
   ]
  },
  {
   "cell_type": "code",
   "execution_count": 25,
   "metadata": {},
   "outputs": [],
   "source": [
    "#visualize_w_scatter(w_d, step_idxs, file_name_str='w_onestep.mp4', fps=150)"
   ]
  },
  {
   "cell_type": "code",
   "execution_count": 17,
   "metadata": {},
   "outputs": [],
   "source": [
    "#visualize_w_scatter(w_d, step_idxs, file_name_str='w_allsteps.mp4', fps=1600) # Scary slow"
   ]
  },
  {
   "cell_type": "markdown",
   "metadata": {},
   "source": [
    "One step w minimization"
   ]
  },
  {
   "cell_type": "markdown",
   "metadata": {},
   "source": [
    "<img src=\"svm_quadratic_programming_w_minimization_one_step.gif\" width=\"320\" height=\"240\">"
   ]
  },
  {
   "cell_type": "markdown",
   "metadata": {},
   "source": [
    "Multi step w minimization"
   ]
  },
  {
   "cell_type": "markdown",
   "metadata": {},
   "source": [
    "<img src=\"svm_quadratic_programming_w_minimization_multi_step.gif\" width=\"320\" height=\"240\">"
   ]
  },
  {
   "cell_type": "code",
   "execution_count": null,
   "metadata": {},
   "outputs": [],
   "source": []
  }
 ],
 "metadata": {
  "kernelspec": {
   "display_name": "Python 3",
   "language": "python",
   "name": "python3"
  },
  "language_info": {
   "codemirror_mode": {
    "name": "ipython",
    "version": 3
   },
   "file_extension": ".py",
   "mimetype": "text/x-python",
   "name": "python",
   "nbconvert_exporter": "python",
   "pygments_lexer": "ipython3",
   "version": "3.7.3"
  }
 },
 "nbformat": 4,
 "nbformat_minor": 4
}
